{
 "cells": [
  {
   "cell_type": "markdown",
   "id": "a1fcd7c9",
   "metadata": {},
   "source": [
    "# Project Title: Zomato Restaurant Demand Forecasting"
   ]
  },
  {
   "cell_type": "markdown",
   "id": "d9c4e498",
   "metadata": {},
   "source": [
    "# Objective:\n",
    "## The goal of this project is to develop a machine learning model that accurately predicts the number of food orders a restaurant will receive at a given time. This will help Zomato:\n",
    "###  Optimize restaurant inventory and staffing to reduce waste.\n",
    "### Improve delivery efficiency by ensuring enough riders are available.\n",
    "### Assist restaurants in better planning and resource management.\n",
    "### Enhance customer experience by reducing delays in food preparation and delivery."
   ]
  },
  {
   "cell_type": "code",
   "execution_count": 1,
   "id": "7aa2ed78",
   "metadata": {},
   "outputs": [],
   "source": [
    "import pandas as pd"
   ]
  },
  {
   "cell_type": "code",
   "execution_count": 2,
   "id": "6799a484-9f8e-4206-8da0-50b345748f0e",
   "metadata": {},
   "outputs": [],
   "source": [
    "import pandas.errors\n",
    "import warnings\n",
    "\n",
    "# Suppress the SettingWithCopyWarning\n",
    "warnings.simplefilter(action='ignore', category=pandas.errors.SettingWithCopyWarning)\n",
    "\n"
   ]
  },
  {
   "cell_type": "code",
   "execution_count": 3,
   "id": "8d97fbb9",
   "metadata": {},
   "outputs": [],
   "source": [
    "df = pd.read_csv('/Users/phanindrareddy/Downloads/ML/Zomato/Zomato.csv', on_bad_lines='skip')"
   ]
  },
  {
   "cell_type": "code",
   "execution_count": 4,
   "id": "e7aab88e",
   "metadata": {},
   "outputs": [
    {
     "data": {
      "text/html": [
       "<div>\n",
       "<style scoped>\n",
       "    .dataframe tbody tr th:only-of-type {\n",
       "        vertical-align: middle;\n",
       "    }\n",
       "\n",
       "    .dataframe tbody tr th {\n",
       "        vertical-align: top;\n",
       "    }\n",
       "\n",
       "    .dataframe thead th {\n",
       "        text-align: right;\n",
       "    }\n",
       "</style>\n",
       "<table border=\"1\" class=\"dataframe\">\n",
       "  <thead>\n",
       "    <tr style=\"text-align: right;\">\n",
       "      <th></th>\n",
       "      <th>user_id</th>\n",
       "      <th>name</th>\n",
       "      <th>email</th>\n",
       "      <th>Age</th>\n",
       "      <th>Gender</th>\n",
       "      <th>Marital Status</th>\n",
       "      <th>Occupation</th>\n",
       "      <th>Monthly Income</th>\n",
       "      <th>Educational Qualifications</th>\n",
       "      <th>Family size</th>\n",
       "      <th>...</th>\n",
       "      <th>cost</th>\n",
       "      <th>cuisine</th>\n",
       "      <th>lic_no</th>\n",
       "      <th>link</th>\n",
       "      <th>address</th>\n",
       "      <th>menu_id</th>\n",
       "      <th>f_id</th>\n",
       "      <th>price</th>\n",
       "      <th>food_item</th>\n",
       "      <th>veg_or_non_veg</th>\n",
       "    </tr>\n",
       "  </thead>\n",
       "  <tbody>\n",
       "    <tr>\n",
       "      <th>0</th>\n",
       "      <td>49226</td>\n",
       "      <td>Teresa Garcia</td>\n",
       "      <td>crobertson@example.com</td>\n",
       "      <td>27</td>\n",
       "      <td>Male</td>\n",
       "      <td>Married</td>\n",
       "      <td>Self Employeed</td>\n",
       "      <td>25001 to 50000</td>\n",
       "      <td>Graduate</td>\n",
       "      <td>6</td>\n",
       "      <td>...</td>\n",
       "      <td>₹ 200</td>\n",
       "      <td>Beverages,Pizzas</td>\n",
       "      <td>22122652000138</td>\n",
       "      <td>https://www.swiggy.com/restaurants/ab-foods-po...</td>\n",
       "      <td>AB FOODS POINT, NEAR RISHI NARANG DENTAL CLINI...</td>\n",
       "      <td>mn0</td>\n",
       "      <td>fd0</td>\n",
       "      <td>40.0</td>\n",
       "      <td>Aloo Tikki Burger</td>\n",
       "      <td>Veg</td>\n",
       "    </tr>\n",
       "    <tr>\n",
       "      <th>1</th>\n",
       "      <td>5321</td>\n",
       "      <td>Donald Anderson</td>\n",
       "      <td>vritter@example.org</td>\n",
       "      <td>24</td>\n",
       "      <td>Male</td>\n",
       "      <td>Married</td>\n",
       "      <td>Employee</td>\n",
       "      <td>More than 50000</td>\n",
       "      <td>Post Graduate</td>\n",
       "      <td>3</td>\n",
       "      <td>...</td>\n",
       "      <td>₹ 100</td>\n",
       "      <td>Beverages</td>\n",
       "      <td>22121652000190</td>\n",
       "      <td>https://www.swiggy.com/restaurants/theka-coffe...</td>\n",
       "      <td>theka coffee desi, sahtiya sadan road city</td>\n",
       "      <td>mn328</td>\n",
       "      <td>fd0</td>\n",
       "      <td>65.0</td>\n",
       "      <td>Aloo Tikki Burger</td>\n",
       "      <td>Veg</td>\n",
       "    </tr>\n",
       "    <tr>\n",
       "      <th>2</th>\n",
       "      <td>5321</td>\n",
       "      <td>Donald Anderson</td>\n",
       "      <td>vritter@example.org</td>\n",
       "      <td>24</td>\n",
       "      <td>Male</td>\n",
       "      <td>Married</td>\n",
       "      <td>Employee</td>\n",
       "      <td>More than 50000</td>\n",
       "      <td>Post Graduate</td>\n",
       "      <td>3</td>\n",
       "      <td>...</td>\n",
       "      <td>₹ 100</td>\n",
       "      <td>Beverages</td>\n",
       "      <td>22121652000190</td>\n",
       "      <td>https://www.swiggy.com/restaurants/theka-coffe...</td>\n",
       "      <td>theka coffee desi, sahtiya sadan road city</td>\n",
       "      <td>mn449</td>\n",
       "      <td>fd0</td>\n",
       "      <td>65.0</td>\n",
       "      <td>Aloo Tikki Burger</td>\n",
       "      <td>Veg</td>\n",
       "    </tr>\n",
       "    <tr>\n",
       "      <th>3</th>\n",
       "      <td>91457</td>\n",
       "      <td>Debbie Leonard</td>\n",
       "      <td>paula51@example.com</td>\n",
       "      <td>24</td>\n",
       "      <td>Male</td>\n",
       "      <td>Married</td>\n",
       "      <td>Employee</td>\n",
       "      <td>More than 50000</td>\n",
       "      <td>Post Graduate</td>\n",
       "      <td>3</td>\n",
       "      <td>...</td>\n",
       "      <td>₹ 300</td>\n",
       "      <td>Juices,Beverages</td>\n",
       "      <td>22121652000374</td>\n",
       "      <td>https://www.swiggy.com/restaurants/chawla-saab...</td>\n",
       "      <td>CHAWLA SAAB THE JUICE MASTER, SAHITYA SADAN MA...</td>\n",
       "      <td>mn967</td>\n",
       "      <td>fd0</td>\n",
       "      <td>52.0</td>\n",
       "      <td>Aloo Tikki Burger</td>\n",
       "      <td>Veg</td>\n",
       "    </tr>\n",
       "    <tr>\n",
       "      <th>4</th>\n",
       "      <td>44025</td>\n",
       "      <td>Julie Gomez</td>\n",
       "      <td>jennifer16@example.com</td>\n",
       "      <td>29</td>\n",
       "      <td>Female</td>\n",
       "      <td>Married</td>\n",
       "      <td>Employee</td>\n",
       "      <td>More than 50000</td>\n",
       "      <td>Graduate</td>\n",
       "      <td>3</td>\n",
       "      <td>...</td>\n",
       "      <td>₹ 100</td>\n",
       "      <td>Indian</td>\n",
       "      <td>license</td>\n",
       "      <td>https://www.swiggy.com/restaurants/shri-balaji...</td>\n",
       "      <td>Shri Balaji fast food and Variety store, oppos...</td>\n",
       "      <td>mn1522</td>\n",
       "      <td>fd0</td>\n",
       "      <td>30.0</td>\n",
       "      <td>Aloo Tikki Burger</td>\n",
       "      <td>Veg</td>\n",
       "    </tr>\n",
       "  </tbody>\n",
       "</table>\n",
       "<p>5 rows × 29 columns</p>\n",
       "</div>"
      ],
      "text/plain": [
       "   user_id             name                   email  Age  Gender  \\\n",
       "0    49226    Teresa Garcia  crobertson@example.com   27    Male   \n",
       "1     5321  Donald Anderson     vritter@example.org   24    Male   \n",
       "2     5321  Donald Anderson     vritter@example.org   24    Male   \n",
       "3    91457   Debbie Leonard     paula51@example.com   24    Male   \n",
       "4    44025      Julie Gomez  jennifer16@example.com   29  Female   \n",
       "\n",
       "  Marital Status      Occupation   Monthly Income Educational Qualifications  \\\n",
       "0        Married  Self Employeed   25001 to 50000                   Graduate   \n",
       "1        Married        Employee  More than 50000              Post Graduate   \n",
       "2        Married        Employee  More than 50000              Post Graduate   \n",
       "3        Married        Employee  More than 50000              Post Graduate   \n",
       "4        Married        Employee  More than 50000                   Graduate   \n",
       "\n",
       "   Family size  ...   cost           cuisine          lic_no  \\\n",
       "0            6  ...  ₹ 200  Beverages,Pizzas  22122652000138   \n",
       "1            3  ...  ₹ 100         Beverages  22121652000190   \n",
       "2            3  ...  ₹ 100         Beverages  22121652000190   \n",
       "3            3  ...  ₹ 300  Juices,Beverages  22121652000374   \n",
       "4            3  ...  ₹ 100            Indian         license   \n",
       "\n",
       "                                                link  \\\n",
       "0  https://www.swiggy.com/restaurants/ab-foods-po...   \n",
       "1  https://www.swiggy.com/restaurants/theka-coffe...   \n",
       "2  https://www.swiggy.com/restaurants/theka-coffe...   \n",
       "3  https://www.swiggy.com/restaurants/chawla-saab...   \n",
       "4  https://www.swiggy.com/restaurants/shri-balaji...   \n",
       "\n",
       "                                             address menu_id f_id price  \\\n",
       "0  AB FOODS POINT, NEAR RISHI NARANG DENTAL CLINI...     mn0  fd0  40.0   \n",
       "1         theka coffee desi, sahtiya sadan road city   mn328  fd0  65.0   \n",
       "2         theka coffee desi, sahtiya sadan road city   mn449  fd0  65.0   \n",
       "3  CHAWLA SAAB THE JUICE MASTER, SAHITYA SADAN MA...   mn967  fd0  52.0   \n",
       "4  Shri Balaji fast food and Variety store, oppos...  mn1522  fd0  30.0   \n",
       "\n",
       "           food_item veg_or_non_veg  \n",
       "0  Aloo Tikki Burger            Veg  \n",
       "1  Aloo Tikki Burger            Veg  \n",
       "2  Aloo Tikki Burger            Veg  \n",
       "3  Aloo Tikki Burger            Veg  \n",
       "4  Aloo Tikki Burger            Veg  \n",
       "\n",
       "[5 rows x 29 columns]"
      ]
     },
     "execution_count": 4,
     "metadata": {},
     "output_type": "execute_result"
    }
   ],
   "source": [
    "df.head(5)"
   ]
  },
  {
   "cell_type": "code",
   "execution_count": 5,
   "id": "1bf35e65",
   "metadata": {},
   "outputs": [
    {
     "data": {
      "text/plain": [
       "(261359, 29)"
      ]
     },
     "execution_count": 5,
     "metadata": {},
     "output_type": "execute_result"
    }
   ],
   "source": [
    "df.shape"
   ]
  },
  {
   "cell_type": "code",
   "execution_count": 6,
   "id": "ac2666f5",
   "metadata": {},
   "outputs": [
    {
     "name": "stdout",
     "output_type": "stream",
     "text": [
      "<class 'pandas.core.frame.DataFrame'>\n",
      "RangeIndex: 261359 entries, 0 to 261358\n",
      "Data columns (total 29 columns):\n",
      " #   Column                      Non-Null Count   Dtype  \n",
      "---  ------                      --------------   -----  \n",
      " 0   user_id                     261359 non-null  int64  \n",
      " 1   name                        261359 non-null  object \n",
      " 2   email                       261359 non-null  object \n",
      " 3   Age                         261359 non-null  int64  \n",
      " 4   Gender                      261359 non-null  object \n",
      " 5   Marital Status              261359 non-null  object \n",
      " 6   Occupation                  261359 non-null  object \n",
      " 7   Monthly Income              261359 non-null  object \n",
      " 8   Educational Qualifications  261359 non-null  object \n",
      " 9   Family size                 261359 non-null  int64  \n",
      " 10  order_date                  261359 non-null  object \n",
      " 11  sales_qty                   261359 non-null  int64  \n",
      " 12  sales_amount                261359 non-null  int64  \n",
      " 13  currency                    261359 non-null  object \n",
      " 14  r_id                        261359 non-null  int64  \n",
      " 15  restaurant_name             261359 non-null  object \n",
      " 16  city                        261359 non-null  object \n",
      " 17  rating                      261359 non-null  object \n",
      " 18  rating_count                261359 non-null  object \n",
      " 19  cost                        261230 non-null  object \n",
      " 20  cuisine                     261359 non-null  object \n",
      " 21  lic_no                      261219 non-null  object \n",
      " 22  link                        261359 non-null  object \n",
      " 23  address                     261359 non-null  object \n",
      " 24  menu_id                     261359 non-null  object \n",
      " 25  f_id                        261325 non-null  object \n",
      " 26  price                       261313 non-null  float64\n",
      " 27  food_item                   261313 non-null  object \n",
      " 28  veg_or_non_veg              261313 non-null  object \n",
      "dtypes: float64(1), int64(6), object(22)\n",
      "memory usage: 57.8+ MB\n"
     ]
    }
   ],
   "source": [
    "df.info()"
   ]
  },
  {
   "cell_type": "markdown",
   "id": "fa0d3f27",
   "metadata": {},
   "source": [
    "# Data Cleaning -> Starts"
   ]
  },
  {
   "cell_type": "markdown",
   "id": "351e9aa8",
   "metadata": {},
   "source": [
    "### Droped the unwanted Columns"
   ]
  },
  {
   "cell_type": "code",
   "execution_count": 7,
   "id": "82178e01",
   "metadata": {},
   "outputs": [],
   "source": [
    "df = df.drop(['email','sales_amount', 'currency' , 'r_id' , 'cost' , 'cuisine' , 'lic_no' , 'link' , 'address' , 'menu_id' , 'f_id' ], axis=1)"
   ]
  },
  {
   "cell_type": "code",
   "execution_count": 8,
   "id": "c9ff975d",
   "metadata": {},
   "outputs": [
    {
     "name": "stdout",
     "output_type": "stream",
     "text": [
      "<class 'pandas.core.frame.DataFrame'>\n",
      "RangeIndex: 261359 entries, 0 to 261358\n",
      "Data columns (total 18 columns):\n",
      " #   Column                      Non-Null Count   Dtype  \n",
      "---  ------                      --------------   -----  \n",
      " 0   user_id                     261359 non-null  int64  \n",
      " 1   name                        261359 non-null  object \n",
      " 2   Age                         261359 non-null  int64  \n",
      " 3   Gender                      261359 non-null  object \n",
      " 4   Marital Status              261359 non-null  object \n",
      " 5   Occupation                  261359 non-null  object \n",
      " 6   Monthly Income              261359 non-null  object \n",
      " 7   Educational Qualifications  261359 non-null  object \n",
      " 8   Family size                 261359 non-null  int64  \n",
      " 9   order_date                  261359 non-null  object \n",
      " 10  sales_qty                   261359 non-null  int64  \n",
      " 11  restaurant_name             261359 non-null  object \n",
      " 12  city                        261359 non-null  object \n",
      " 13  rating                      261359 non-null  object \n",
      " 14  rating_count                261359 non-null  object \n",
      " 15  price                       261313 non-null  float64\n",
      " 16  food_item                   261313 non-null  object \n",
      " 17  veg_or_non_veg              261313 non-null  object \n",
      "dtypes: float64(1), int64(4), object(13)\n",
      "memory usage: 35.9+ MB\n"
     ]
    }
   ],
   "source": [
    "df.info()"
   ]
  },
  {
   "cell_type": "code",
   "execution_count": 9,
   "id": "c3660599",
   "metadata": {},
   "outputs": [
    {
     "data": {
      "text/html": [
       "<div>\n",
       "<style scoped>\n",
       "    .dataframe tbody tr th:only-of-type {\n",
       "        vertical-align: middle;\n",
       "    }\n",
       "\n",
       "    .dataframe tbody tr th {\n",
       "        vertical-align: top;\n",
       "    }\n",
       "\n",
       "    .dataframe thead th {\n",
       "        text-align: right;\n",
       "    }\n",
       "</style>\n",
       "<table border=\"1\" class=\"dataframe\">\n",
       "  <thead>\n",
       "    <tr style=\"text-align: right;\">\n",
       "      <th></th>\n",
       "      <th>user_id</th>\n",
       "      <th>name</th>\n",
       "      <th>Age</th>\n",
       "      <th>Gender</th>\n",
       "      <th>Marital Status</th>\n",
       "      <th>Occupation</th>\n",
       "      <th>Monthly Income</th>\n",
       "      <th>Educational Qualifications</th>\n",
       "      <th>Family size</th>\n",
       "      <th>order_date</th>\n",
       "      <th>sales_qty</th>\n",
       "      <th>restaurant_name</th>\n",
       "      <th>city</th>\n",
       "      <th>rating</th>\n",
       "      <th>rating_count</th>\n",
       "      <th>price</th>\n",
       "      <th>food_item</th>\n",
       "      <th>veg_or_non_veg</th>\n",
       "    </tr>\n",
       "  </thead>\n",
       "  <tbody>\n",
       "    <tr>\n",
       "      <th>0</th>\n",
       "      <td>49226</td>\n",
       "      <td>Teresa Garcia</td>\n",
       "      <td>27</td>\n",
       "      <td>Male</td>\n",
       "      <td>Married</td>\n",
       "      <td>Self Employeed</td>\n",
       "      <td>25001 to 50000</td>\n",
       "      <td>Graduate</td>\n",
       "      <td>6</td>\n",
       "      <td>2017-10-10</td>\n",
       "      <td>100</td>\n",
       "      <td>AB FOODS POINT</td>\n",
       "      <td>Abohar</td>\n",
       "      <td>--</td>\n",
       "      <td>Too Few Ratings</td>\n",
       "      <td>40.0</td>\n",
       "      <td>Aloo Tikki Burger</td>\n",
       "      <td>Veg</td>\n",
       "    </tr>\n",
       "    <tr>\n",
       "      <th>1</th>\n",
       "      <td>5321</td>\n",
       "      <td>Donald Anderson</td>\n",
       "      <td>24</td>\n",
       "      <td>Male</td>\n",
       "      <td>Married</td>\n",
       "      <td>Employee</td>\n",
       "      <td>More than 50000</td>\n",
       "      <td>Post Graduate</td>\n",
       "      <td>3</td>\n",
       "      <td>2018-04-06</td>\n",
       "      <td>1</td>\n",
       "      <td>theka coffee desi</td>\n",
       "      <td>Abohar</td>\n",
       "      <td>3.8</td>\n",
       "      <td>100+ ratings</td>\n",
       "      <td>65.0</td>\n",
       "      <td>Aloo Tikki Burger</td>\n",
       "      <td>Veg</td>\n",
       "    </tr>\n",
       "    <tr>\n",
       "      <th>2</th>\n",
       "      <td>5321</td>\n",
       "      <td>Donald Anderson</td>\n",
       "      <td>24</td>\n",
       "      <td>Male</td>\n",
       "      <td>Married</td>\n",
       "      <td>Employee</td>\n",
       "      <td>More than 50000</td>\n",
       "      <td>Post Graduate</td>\n",
       "      <td>3</td>\n",
       "      <td>2018-04-06</td>\n",
       "      <td>1</td>\n",
       "      <td>theka coffee desi</td>\n",
       "      <td>Abohar</td>\n",
       "      <td>3.8</td>\n",
       "      <td>100+ ratings</td>\n",
       "      <td>65.0</td>\n",
       "      <td>Aloo Tikki Burger</td>\n",
       "      <td>Veg</td>\n",
       "    </tr>\n",
       "    <tr>\n",
       "      <th>3</th>\n",
       "      <td>91457</td>\n",
       "      <td>Debbie Leonard</td>\n",
       "      <td>24</td>\n",
       "      <td>Male</td>\n",
       "      <td>Married</td>\n",
       "      <td>Employee</td>\n",
       "      <td>More than 50000</td>\n",
       "      <td>Post Graduate</td>\n",
       "      <td>3</td>\n",
       "      <td>2017-11-29</td>\n",
       "      <td>184</td>\n",
       "      <td>CHAWLA SAAB THE JUICE MASTER</td>\n",
       "      <td>Abohar</td>\n",
       "      <td>--</td>\n",
       "      <td>Too Few Ratings</td>\n",
       "      <td>52.0</td>\n",
       "      <td>Aloo Tikki Burger</td>\n",
       "      <td>Veg</td>\n",
       "    </tr>\n",
       "    <tr>\n",
       "      <th>4</th>\n",
       "      <td>44025</td>\n",
       "      <td>Julie Gomez</td>\n",
       "      <td>29</td>\n",
       "      <td>Female</td>\n",
       "      <td>Married</td>\n",
       "      <td>Employee</td>\n",
       "      <td>More than 50000</td>\n",
       "      <td>Graduate</td>\n",
       "      <td>3</td>\n",
       "      <td>2018-07-03</td>\n",
       "      <td>79</td>\n",
       "      <td>Shri Balaji fast food and Variety store</td>\n",
       "      <td>Abohar</td>\n",
       "      <td>--</td>\n",
       "      <td>Too Few Ratings</td>\n",
       "      <td>30.0</td>\n",
       "      <td>Aloo Tikki Burger</td>\n",
       "      <td>Veg</td>\n",
       "    </tr>\n",
       "    <tr>\n",
       "      <th>5</th>\n",
       "      <td>68553</td>\n",
       "      <td>Sara Blake</td>\n",
       "      <td>25</td>\n",
       "      <td>Male</td>\n",
       "      <td>Married</td>\n",
       "      <td>Self Employeed</td>\n",
       "      <td>More than 50000</td>\n",
       "      <td>Post Graduate</td>\n",
       "      <td>4</td>\n",
       "      <td>2019-08-01</td>\n",
       "      <td>5</td>\n",
       "      <td>Picado International Food</td>\n",
       "      <td>Abohar</td>\n",
       "      <td>--</td>\n",
       "      <td>Too Few Ratings</td>\n",
       "      <td>55.0</td>\n",
       "      <td>Aloo Tikki Burger</td>\n",
       "      <td>Veg</td>\n",
       "    </tr>\n",
       "    <tr>\n",
       "      <th>6</th>\n",
       "      <td>30521</td>\n",
       "      <td>Jacqueline Murphy</td>\n",
       "      <td>23</td>\n",
       "      <td>Male</td>\n",
       "      <td>Single</td>\n",
       "      <td>Student</td>\n",
       "      <td>No Income</td>\n",
       "      <td>Post Graduate</td>\n",
       "      <td>2</td>\n",
       "      <td>2019-02-08</td>\n",
       "      <td>1</td>\n",
       "      <td>Sagar Fast Food</td>\n",
       "      <td>Abohar</td>\n",
       "      <td>--</td>\n",
       "      <td>Too Few Ratings</td>\n",
       "      <td>45.0</td>\n",
       "      <td>Aloo Tikki Burger</td>\n",
       "      <td>Veg</td>\n",
       "    </tr>\n",
       "    <tr>\n",
       "      <th>7</th>\n",
       "      <td>30521</td>\n",
       "      <td>Jacqueline Murphy</td>\n",
       "      <td>23</td>\n",
       "      <td>Male</td>\n",
       "      <td>Single</td>\n",
       "      <td>Student</td>\n",
       "      <td>No Income</td>\n",
       "      <td>Post Graduate</td>\n",
       "      <td>2</td>\n",
       "      <td>2019-02-08</td>\n",
       "      <td>1</td>\n",
       "      <td>Sagar Fast Food</td>\n",
       "      <td>Abohar</td>\n",
       "      <td>--</td>\n",
       "      <td>Too Few Ratings</td>\n",
       "      <td>45.0</td>\n",
       "      <td>Aloo Tikki Burger</td>\n",
       "      <td>Veg</td>\n",
       "    </tr>\n",
       "    <tr>\n",
       "      <th>8</th>\n",
       "      <td>8084</td>\n",
       "      <td>Joshua Villarreal</td>\n",
       "      <td>22</td>\n",
       "      <td>Male</td>\n",
       "      <td>Single</td>\n",
       "      <td>Student</td>\n",
       "      <td>No Income</td>\n",
       "      <td>Graduate</td>\n",
       "      <td>3</td>\n",
       "      <td>2019-03-08</td>\n",
       "      <td>12</td>\n",
       "      <td>The Chocolate Room</td>\n",
       "      <td>Adityapur</td>\n",
       "      <td>3.7</td>\n",
       "      <td>20+ ratings</td>\n",
       "      <td>179.0</td>\n",
       "      <td>Aloo Tikki Burger</td>\n",
       "      <td>Veg</td>\n",
       "    </tr>\n",
       "    <tr>\n",
       "      <th>9</th>\n",
       "      <td>79770</td>\n",
       "      <td>Thomas Moore</td>\n",
       "      <td>32</td>\n",
       "      <td>Male</td>\n",
       "      <td>Married</td>\n",
       "      <td>Employee</td>\n",
       "      <td>25001 to 50000</td>\n",
       "      <td>Graduate</td>\n",
       "      <td>3</td>\n",
       "      <td>2018-05-29</td>\n",
       "      <td>4</td>\n",
       "      <td>The Chocolate Room</td>\n",
       "      <td>Adityapur</td>\n",
       "      <td>3.7</td>\n",
       "      <td>20+ ratings</td>\n",
       "      <td>179.0</td>\n",
       "      <td>Aloo Tikki Burger</td>\n",
       "      <td>Veg</td>\n",
       "    </tr>\n",
       "  </tbody>\n",
       "</table>\n",
       "</div>"
      ],
      "text/plain": [
       "   user_id               name  Age  Gender Marital Status      Occupation  \\\n",
       "0    49226      Teresa Garcia   27    Male        Married  Self Employeed   \n",
       "1     5321    Donald Anderson   24    Male        Married        Employee   \n",
       "2     5321    Donald Anderson   24    Male        Married        Employee   \n",
       "3    91457     Debbie Leonard   24    Male        Married        Employee   \n",
       "4    44025        Julie Gomez   29  Female        Married        Employee   \n",
       "5    68553         Sara Blake   25    Male        Married  Self Employeed   \n",
       "6    30521  Jacqueline Murphy   23    Male         Single         Student   \n",
       "7    30521  Jacqueline Murphy   23    Male         Single         Student   \n",
       "8     8084  Joshua Villarreal   22    Male         Single         Student   \n",
       "9    79770       Thomas Moore   32    Male        Married        Employee   \n",
       "\n",
       "    Monthly Income Educational Qualifications  Family size  order_date  \\\n",
       "0   25001 to 50000                   Graduate            6  2017-10-10   \n",
       "1  More than 50000              Post Graduate            3  2018-04-06   \n",
       "2  More than 50000              Post Graduate            3  2018-04-06   \n",
       "3  More than 50000              Post Graduate            3  2017-11-29   \n",
       "4  More than 50000                   Graduate            3  2018-07-03   \n",
       "5  More than 50000              Post Graduate            4  2019-08-01   \n",
       "6        No Income              Post Graduate            2  2019-02-08   \n",
       "7        No Income              Post Graduate            2  2019-02-08   \n",
       "8        No Income                   Graduate            3  2019-03-08   \n",
       "9   25001 to 50000                   Graduate            3  2018-05-29   \n",
       "\n",
       "   sales_qty                          restaurant_name       city rating  \\\n",
       "0        100                           AB FOODS POINT     Abohar     --   \n",
       "1          1                        theka coffee desi     Abohar    3.8   \n",
       "2          1                        theka coffee desi     Abohar    3.8   \n",
       "3        184             CHAWLA SAAB THE JUICE MASTER     Abohar     --   \n",
       "4         79  Shri Balaji fast food and Variety store     Abohar     --   \n",
       "5          5                Picado International Food     Abohar     --   \n",
       "6          1                          Sagar Fast Food     Abohar     --   \n",
       "7          1                          Sagar Fast Food     Abohar     --   \n",
       "8         12                       The Chocolate Room  Adityapur    3.7   \n",
       "9          4                       The Chocolate Room  Adityapur    3.7   \n",
       "\n",
       "      rating_count  price          food_item veg_or_non_veg  \n",
       "0  Too Few Ratings   40.0  Aloo Tikki Burger            Veg  \n",
       "1     100+ ratings   65.0  Aloo Tikki Burger            Veg  \n",
       "2     100+ ratings   65.0  Aloo Tikki Burger            Veg  \n",
       "3  Too Few Ratings   52.0  Aloo Tikki Burger            Veg  \n",
       "4  Too Few Ratings   30.0  Aloo Tikki Burger            Veg  \n",
       "5  Too Few Ratings   55.0  Aloo Tikki Burger            Veg  \n",
       "6  Too Few Ratings   45.0  Aloo Tikki Burger            Veg  \n",
       "7  Too Few Ratings   45.0  Aloo Tikki Burger            Veg  \n",
       "8      20+ ratings  179.0  Aloo Tikki Burger            Veg  \n",
       "9      20+ ratings  179.0  Aloo Tikki Burger            Veg  "
      ]
     },
     "execution_count": 9,
     "metadata": {},
     "output_type": "execute_result"
    }
   ],
   "source": [
    "df.head(10)"
   ]
  },
  {
   "cell_type": "code",
   "execution_count": 10,
   "id": "d1eb3960",
   "metadata": {},
   "outputs": [
    {
     "data": {
      "text/plain": [
       "32924"
      ]
     },
     "execution_count": 10,
     "metadata": {},
     "output_type": "execute_result"
    }
   ],
   "source": [
    "df.duplicated().sum() "
   ]
  },
  {
   "cell_type": "code",
   "execution_count": 11,
   "id": "8b43896e",
   "metadata": {},
   "outputs": [],
   "source": [
    "df = df.drop_duplicates()"
   ]
  },
  {
   "cell_type": "code",
   "execution_count": 12,
   "id": "311393e1",
   "metadata": {},
   "outputs": [
    {
     "data": {
      "text/plain": [
       "0"
      ]
     },
     "execution_count": 12,
     "metadata": {},
     "output_type": "execute_result"
    }
   ],
   "source": [
    "df.duplicated().sum() "
   ]
  },
  {
   "cell_type": "code",
   "execution_count": 13,
   "id": "be43029d",
   "metadata": {},
   "outputs": [
    {
     "data": {
      "text/html": [
       "<div>\n",
       "<style scoped>\n",
       "    .dataframe tbody tr th:only-of-type {\n",
       "        vertical-align: middle;\n",
       "    }\n",
       "\n",
       "    .dataframe tbody tr th {\n",
       "        vertical-align: top;\n",
       "    }\n",
       "\n",
       "    .dataframe thead th {\n",
       "        text-align: right;\n",
       "    }\n",
       "</style>\n",
       "<table border=\"1\" class=\"dataframe\">\n",
       "  <thead>\n",
       "    <tr style=\"text-align: right;\">\n",
       "      <th></th>\n",
       "      <th>user_id</th>\n",
       "      <th>name</th>\n",
       "      <th>Age</th>\n",
       "      <th>Gender</th>\n",
       "      <th>Marital Status</th>\n",
       "      <th>Occupation</th>\n",
       "      <th>Monthly Income</th>\n",
       "      <th>Educational Qualifications</th>\n",
       "      <th>Family size</th>\n",
       "      <th>order_date</th>\n",
       "      <th>sales_qty</th>\n",
       "      <th>restaurant_name</th>\n",
       "      <th>city</th>\n",
       "      <th>rating</th>\n",
       "      <th>rating_count</th>\n",
       "      <th>price</th>\n",
       "      <th>food_item</th>\n",
       "      <th>veg_or_non_veg</th>\n",
       "    </tr>\n",
       "  </thead>\n",
       "  <tbody>\n",
       "    <tr>\n",
       "      <th>0</th>\n",
       "      <td>49226</td>\n",
       "      <td>Teresa Garcia</td>\n",
       "      <td>27</td>\n",
       "      <td>Male</td>\n",
       "      <td>Married</td>\n",
       "      <td>Self Employeed</td>\n",
       "      <td>25001 to 50000</td>\n",
       "      <td>Graduate</td>\n",
       "      <td>6</td>\n",
       "      <td>2017-10-10</td>\n",
       "      <td>100</td>\n",
       "      <td>AB FOODS POINT</td>\n",
       "      <td>Abohar</td>\n",
       "      <td>--</td>\n",
       "      <td>Too Few Ratings</td>\n",
       "      <td>40.0</td>\n",
       "      <td>Aloo Tikki Burger</td>\n",
       "      <td>Veg</td>\n",
       "    </tr>\n",
       "    <tr>\n",
       "      <th>1</th>\n",
       "      <td>5321</td>\n",
       "      <td>Donald Anderson</td>\n",
       "      <td>24</td>\n",
       "      <td>Male</td>\n",
       "      <td>Married</td>\n",
       "      <td>Employee</td>\n",
       "      <td>More than 50000</td>\n",
       "      <td>Post Graduate</td>\n",
       "      <td>3</td>\n",
       "      <td>2018-04-06</td>\n",
       "      <td>1</td>\n",
       "      <td>theka coffee desi</td>\n",
       "      <td>Abohar</td>\n",
       "      <td>3.8</td>\n",
       "      <td>100+ ratings</td>\n",
       "      <td>65.0</td>\n",
       "      <td>Aloo Tikki Burger</td>\n",
       "      <td>Veg</td>\n",
       "    </tr>\n",
       "    <tr>\n",
       "      <th>3</th>\n",
       "      <td>91457</td>\n",
       "      <td>Debbie Leonard</td>\n",
       "      <td>24</td>\n",
       "      <td>Male</td>\n",
       "      <td>Married</td>\n",
       "      <td>Employee</td>\n",
       "      <td>More than 50000</td>\n",
       "      <td>Post Graduate</td>\n",
       "      <td>3</td>\n",
       "      <td>2017-11-29</td>\n",
       "      <td>184</td>\n",
       "      <td>CHAWLA SAAB THE JUICE MASTER</td>\n",
       "      <td>Abohar</td>\n",
       "      <td>--</td>\n",
       "      <td>Too Few Ratings</td>\n",
       "      <td>52.0</td>\n",
       "      <td>Aloo Tikki Burger</td>\n",
       "      <td>Veg</td>\n",
       "    </tr>\n",
       "    <tr>\n",
       "      <th>4</th>\n",
       "      <td>44025</td>\n",
       "      <td>Julie Gomez</td>\n",
       "      <td>29</td>\n",
       "      <td>Female</td>\n",
       "      <td>Married</td>\n",
       "      <td>Employee</td>\n",
       "      <td>More than 50000</td>\n",
       "      <td>Graduate</td>\n",
       "      <td>3</td>\n",
       "      <td>2018-07-03</td>\n",
       "      <td>79</td>\n",
       "      <td>Shri Balaji fast food and Variety store</td>\n",
       "      <td>Abohar</td>\n",
       "      <td>--</td>\n",
       "      <td>Too Few Ratings</td>\n",
       "      <td>30.0</td>\n",
       "      <td>Aloo Tikki Burger</td>\n",
       "      <td>Veg</td>\n",
       "    </tr>\n",
       "    <tr>\n",
       "      <th>5</th>\n",
       "      <td>68553</td>\n",
       "      <td>Sara Blake</td>\n",
       "      <td>25</td>\n",
       "      <td>Male</td>\n",
       "      <td>Married</td>\n",
       "      <td>Self Employeed</td>\n",
       "      <td>More than 50000</td>\n",
       "      <td>Post Graduate</td>\n",
       "      <td>4</td>\n",
       "      <td>2019-08-01</td>\n",
       "      <td>5</td>\n",
       "      <td>Picado International Food</td>\n",
       "      <td>Abohar</td>\n",
       "      <td>--</td>\n",
       "      <td>Too Few Ratings</td>\n",
       "      <td>55.0</td>\n",
       "      <td>Aloo Tikki Burger</td>\n",
       "      <td>Veg</td>\n",
       "    </tr>\n",
       "  </tbody>\n",
       "</table>\n",
       "</div>"
      ],
      "text/plain": [
       "   user_id             name  Age  Gender Marital Status      Occupation  \\\n",
       "0    49226    Teresa Garcia   27    Male        Married  Self Employeed   \n",
       "1     5321  Donald Anderson   24    Male        Married        Employee   \n",
       "3    91457   Debbie Leonard   24    Male        Married        Employee   \n",
       "4    44025      Julie Gomez   29  Female        Married        Employee   \n",
       "5    68553       Sara Blake   25    Male        Married  Self Employeed   \n",
       "\n",
       "    Monthly Income Educational Qualifications  Family size  order_date  \\\n",
       "0   25001 to 50000                   Graduate            6  2017-10-10   \n",
       "1  More than 50000              Post Graduate            3  2018-04-06   \n",
       "3  More than 50000              Post Graduate            3  2017-11-29   \n",
       "4  More than 50000                   Graduate            3  2018-07-03   \n",
       "5  More than 50000              Post Graduate            4  2019-08-01   \n",
       "\n",
       "   sales_qty                          restaurant_name    city rating  \\\n",
       "0        100                           AB FOODS POINT  Abohar     --   \n",
       "1          1                        theka coffee desi  Abohar    3.8   \n",
       "3        184             CHAWLA SAAB THE JUICE MASTER  Abohar     --   \n",
       "4         79  Shri Balaji fast food and Variety store  Abohar     --   \n",
       "5          5                Picado International Food  Abohar     --   \n",
       "\n",
       "      rating_count  price          food_item veg_or_non_veg  \n",
       "0  Too Few Ratings   40.0  Aloo Tikki Burger            Veg  \n",
       "1     100+ ratings   65.0  Aloo Tikki Burger            Veg  \n",
       "3  Too Few Ratings   52.0  Aloo Tikki Burger            Veg  \n",
       "4  Too Few Ratings   30.0  Aloo Tikki Burger            Veg  \n",
       "5  Too Few Ratings   55.0  Aloo Tikki Burger            Veg  "
      ]
     },
     "execution_count": 13,
     "metadata": {},
     "output_type": "execute_result"
    }
   ],
   "source": [
    "df.head(5)"
   ]
  },
  {
   "cell_type": "code",
   "execution_count": 14,
   "id": "1bf76dda",
   "metadata": {},
   "outputs": [
    {
     "name": "stdout",
     "output_type": "stream",
     "text": [
      "<class 'pandas.core.frame.DataFrame'>\n",
      "Index: 228435 entries, 0 to 261358\n",
      "Data columns (total 18 columns):\n",
      " #   Column                      Non-Null Count   Dtype  \n",
      "---  ------                      --------------   -----  \n",
      " 0   user_id                     228435 non-null  int64  \n",
      " 1   name                        228435 non-null  object \n",
      " 2   Age                         228435 non-null  int64  \n",
      " 3   Gender                      228435 non-null  object \n",
      " 4   Marital Status              228435 non-null  object \n",
      " 5   Occupation                  228435 non-null  object \n",
      " 6   Monthly Income              228435 non-null  object \n",
      " 7   Educational Qualifications  228435 non-null  object \n",
      " 8   Family size                 228435 non-null  int64  \n",
      " 9   order_date                  228435 non-null  object \n",
      " 10  sales_qty                   228435 non-null  int64  \n",
      " 11  restaurant_name             228435 non-null  object \n",
      " 12  city                        228435 non-null  object \n",
      " 13  rating                      228435 non-null  object \n",
      " 14  rating_count                228435 non-null  object \n",
      " 15  price                       228434 non-null  float64\n",
      " 16  food_item                   228434 non-null  object \n",
      " 17  veg_or_non_veg              228434 non-null  object \n",
      "dtypes: float64(1), int64(4), object(13)\n",
      "memory usage: 33.1+ MB\n"
     ]
    }
   ],
   "source": [
    "df.info()"
   ]
  },
  {
   "cell_type": "code",
   "execution_count": 15,
   "id": "3d21cf2b",
   "metadata": {},
   "outputs": [],
   "source": [
    "#order_date to date from object , rating to float from object\n",
    "df['order_date'] = pd.to_datetime(df['order_date'])"
   ]
  },
  {
   "cell_type": "code",
   "execution_count": 16,
   "id": "018c2965",
   "metadata": {},
   "outputs": [
    {
     "name": "stdout",
     "output_type": "stream",
     "text": [
      "<class 'pandas.core.frame.DataFrame'>\n",
      "Index: 228435 entries, 0 to 261358\n",
      "Data columns (total 18 columns):\n",
      " #   Column                      Non-Null Count   Dtype         \n",
      "---  ------                      --------------   -----         \n",
      " 0   user_id                     228435 non-null  int64         \n",
      " 1   name                        228435 non-null  object        \n",
      " 2   Age                         228435 non-null  int64         \n",
      " 3   Gender                      228435 non-null  object        \n",
      " 4   Marital Status              228435 non-null  object        \n",
      " 5   Occupation                  228435 non-null  object        \n",
      " 6   Monthly Income              228435 non-null  object        \n",
      " 7   Educational Qualifications  228435 non-null  object        \n",
      " 8   Family size                 228435 non-null  int64         \n",
      " 9   order_date                  228435 non-null  datetime64[ns]\n",
      " 10  sales_qty                   228435 non-null  int64         \n",
      " 11  restaurant_name             228435 non-null  object        \n",
      " 12  city                        228435 non-null  object        \n",
      " 13  rating                      228435 non-null  object        \n",
      " 14  rating_count                228435 non-null  object        \n",
      " 15  price                       228434 non-null  float64       \n",
      " 16  food_item                   228434 non-null  object        \n",
      " 17  veg_or_non_veg              228434 non-null  object        \n",
      "dtypes: datetime64[ns](1), float64(1), int64(4), object(12)\n",
      "memory usage: 33.1+ MB\n"
     ]
    }
   ],
   "source": [
    "df.info()"
   ]
  },
  {
   "cell_type": "markdown",
   "id": "35a73e78",
   "metadata": {},
   "source": [
    "## Replaced \"--\" values in rating to their mean and convert it into float data type"
   ]
  },
  {
   "cell_type": "code",
   "execution_count": 17,
   "id": "d314cdf8",
   "metadata": {},
   "outputs": [],
   "source": [
    "df['rating'] = df['rating'].replace(\"--\", 2).astype(float)"
   ]
  },
  {
   "cell_type": "code",
   "execution_count": 18,
   "id": "445ce28a",
   "metadata": {},
   "outputs": [
    {
     "name": "stdout",
     "output_type": "stream",
     "text": [
      "<class 'pandas.core.frame.DataFrame'>\n",
      "Index: 228435 entries, 0 to 261358\n",
      "Data columns (total 18 columns):\n",
      " #   Column                      Non-Null Count   Dtype         \n",
      "---  ------                      --------------   -----         \n",
      " 0   user_id                     228435 non-null  int64         \n",
      " 1   name                        228435 non-null  object        \n",
      " 2   Age                         228435 non-null  int64         \n",
      " 3   Gender                      228435 non-null  object        \n",
      " 4   Marital Status              228435 non-null  object        \n",
      " 5   Occupation                  228435 non-null  object        \n",
      " 6   Monthly Income              228435 non-null  object        \n",
      " 7   Educational Qualifications  228435 non-null  object        \n",
      " 8   Family size                 228435 non-null  int64         \n",
      " 9   order_date                  228435 non-null  datetime64[ns]\n",
      " 10  sales_qty                   228435 non-null  int64         \n",
      " 11  restaurant_name             228435 non-null  object        \n",
      " 12  city                        228435 non-null  object        \n",
      " 13  rating                      228435 non-null  float64       \n",
      " 14  rating_count                228435 non-null  object        \n",
      " 15  price                       228434 non-null  float64       \n",
      " 16  food_item                   228434 non-null  object        \n",
      " 17  veg_or_non_veg              228434 non-null  object        \n",
      "dtypes: datetime64[ns](1), float64(2), int64(4), object(11)\n",
      "memory usage: 33.1+ MB\n"
     ]
    }
   ],
   "source": [
    "df.info()"
   ]
  },
  {
   "cell_type": "markdown",
   "id": "886ea66a",
   "metadata": {},
   "source": [
    "### added new column using sales quantty and its price"
   ]
  },
  {
   "cell_type": "code",
   "execution_count": 19,
   "id": "26042541",
   "metadata": {},
   "outputs": [],
   "source": [
    "df['Total_price'] = df['sales_qty'] * df['price']"
   ]
  },
  {
   "cell_type": "code",
   "execution_count": 20,
   "id": "be41a45f",
   "metadata": {},
   "outputs": [
    {
     "data": {
      "text/plain": [
       "user_id                       0\n",
       "name                          0\n",
       "Age                           0\n",
       "Gender                        0\n",
       "Marital Status                0\n",
       "Occupation                    0\n",
       "Monthly Income                0\n",
       "Educational Qualifications    0\n",
       "Family size                   0\n",
       "order_date                    0\n",
       "sales_qty                     0\n",
       "restaurant_name               0\n",
       "city                          0\n",
       "rating                        0\n",
       "rating_count                  0\n",
       "price                         1\n",
       "food_item                     1\n",
       "veg_or_non_veg                1\n",
       "Total_price                   1\n",
       "dtype: int64"
      ]
     },
     "execution_count": 20,
     "metadata": {},
     "output_type": "execute_result"
    }
   ],
   "source": [
    "df.isnull().sum()"
   ]
  },
  {
   "cell_type": "markdown",
   "id": "19a0ee9e",
   "metadata": {},
   "source": [
    "### Droped null values as they are verry minimal"
   ]
  },
  {
   "cell_type": "code",
   "execution_count": 21,
   "id": "1735f5fd",
   "metadata": {},
   "outputs": [],
   "source": [
    "df = df.dropna()"
   ]
  },
  {
   "cell_type": "markdown",
   "id": "2252ee82",
   "metadata": {},
   "source": [
    "### Standardize Text Data (Case Conversion, Stripping Spaces)"
   ]
  },
  {
   "cell_type": "code",
   "execution_count": 22,
   "id": "2e7856c9",
   "metadata": {},
   "outputs": [
    {
     "name": "stderr",
     "output_type": "stream",
     "text": [
      "/var/folders/wr/f46wwx5572n6gsrhb539nxv80000gn/T/ipykernel_63857/1274793226.py:1: FutureWarning: DataFrame.applymap has been deprecated. Use DataFrame.map instead.\n",
      "  df = df.applymap(lambda x: x.strip().lower() if isinstance(x, str) else x)\n"
     ]
    }
   ],
   "source": [
    "df = df.applymap(lambda x: x.strip().lower() if isinstance(x, str) else x)"
   ]
  },
  {
   "cell_type": "code",
   "execution_count": 23,
   "id": "7becc198",
   "metadata": {},
   "outputs": [
    {
     "data": {
      "text/plain": [
       "(228434, 19)"
      ]
     },
     "execution_count": 23,
     "metadata": {},
     "output_type": "execute_result"
    }
   ],
   "source": [
    "df.shape"
   ]
  },
  {
   "cell_type": "markdown",
   "id": "fc6231d1",
   "metadata": {},
   "source": [
    "### Removing outliers"
   ]
  },
  {
   "cell_type": "code",
   "execution_count": 24,
   "id": "6dab2e15",
   "metadata": {},
   "outputs": [],
   "source": [
    "import numpy as np\n",
    "\n",
    "def remove_outliers(df, col):\n",
    "    Q1 = df[col].quantile(0.25)\n",
    "    Q3 = df[col].quantile(0.75)\n",
    "    IQR = Q3 - Q1\n",
    "    lower_bound = Q1 - 1.5 * IQR\n",
    "    upper_bound = Q3 + 1.5 * IQR\n",
    "    return df[(df[col] >= lower_bound) & (df[col] <= upper_bound)]\n",
    "\n",
    "df = remove_outliers(df, 'price')\n",
    "df = remove_outliers(df, 'sales_qty')"
   ]
  },
  {
   "cell_type": "code",
   "execution_count": 25,
   "id": "50ed7e6e",
   "metadata": {},
   "outputs": [
    {
     "data": {
      "text/plain": [
       "(198772, 19)"
      ]
     },
     "execution_count": 25,
     "metadata": {},
     "output_type": "execute_result"
    }
   ],
   "source": [
    "df.shape"
   ]
  },
  {
   "cell_type": "code",
   "execution_count": 26,
   "id": "49d48fe5",
   "metadata": {},
   "outputs": [
    {
     "data": {
      "text/html": [
       "<div>\n",
       "<style scoped>\n",
       "    .dataframe tbody tr th:only-of-type {\n",
       "        vertical-align: middle;\n",
       "    }\n",
       "\n",
       "    .dataframe tbody tr th {\n",
       "        vertical-align: top;\n",
       "    }\n",
       "\n",
       "    .dataframe thead th {\n",
       "        text-align: right;\n",
       "    }\n",
       "</style>\n",
       "<table border=\"1\" class=\"dataframe\">\n",
       "  <thead>\n",
       "    <tr style=\"text-align: right;\">\n",
       "      <th></th>\n",
       "      <th>user_id</th>\n",
       "      <th>name</th>\n",
       "      <th>Age</th>\n",
       "      <th>Gender</th>\n",
       "      <th>Marital Status</th>\n",
       "      <th>Occupation</th>\n",
       "      <th>Monthly Income</th>\n",
       "      <th>Educational Qualifications</th>\n",
       "      <th>Family size</th>\n",
       "      <th>order_date</th>\n",
       "      <th>sales_qty</th>\n",
       "      <th>restaurant_name</th>\n",
       "      <th>city</th>\n",
       "      <th>rating</th>\n",
       "      <th>rating_count</th>\n",
       "      <th>price</th>\n",
       "      <th>food_item</th>\n",
       "      <th>veg_or_non_veg</th>\n",
       "      <th>Total_price</th>\n",
       "    </tr>\n",
       "  </thead>\n",
       "  <tbody>\n",
       "    <tr>\n",
       "      <th>1</th>\n",
       "      <td>5321</td>\n",
       "      <td>donald anderson</td>\n",
       "      <td>24</td>\n",
       "      <td>male</td>\n",
       "      <td>married</td>\n",
       "      <td>employee</td>\n",
       "      <td>more than 50000</td>\n",
       "      <td>post graduate</td>\n",
       "      <td>3</td>\n",
       "      <td>2018-04-06</td>\n",
       "      <td>1</td>\n",
       "      <td>theka coffee desi</td>\n",
       "      <td>abohar</td>\n",
       "      <td>3.8</td>\n",
       "      <td>100+ ratings</td>\n",
       "      <td>65.0</td>\n",
       "      <td>aloo tikki burger</td>\n",
       "      <td>veg</td>\n",
       "      <td>65.0</td>\n",
       "    </tr>\n",
       "    <tr>\n",
       "      <th>5</th>\n",
       "      <td>68553</td>\n",
       "      <td>sara blake</td>\n",
       "      <td>25</td>\n",
       "      <td>male</td>\n",
       "      <td>married</td>\n",
       "      <td>self employeed</td>\n",
       "      <td>more than 50000</td>\n",
       "      <td>post graduate</td>\n",
       "      <td>4</td>\n",
       "      <td>2019-08-01</td>\n",
       "      <td>5</td>\n",
       "      <td>picado international food</td>\n",
       "      <td>abohar</td>\n",
       "      <td>2.0</td>\n",
       "      <td>too few ratings</td>\n",
       "      <td>55.0</td>\n",
       "      <td>aloo tikki burger</td>\n",
       "      <td>veg</td>\n",
       "      <td>275.0</td>\n",
       "    </tr>\n",
       "  </tbody>\n",
       "</table>\n",
       "</div>"
      ],
      "text/plain": [
       "   user_id             name  Age Gender Marital Status      Occupation  \\\n",
       "1     5321  donald anderson   24   male        married        employee   \n",
       "5    68553       sara blake   25   male        married  self employeed   \n",
       "\n",
       "    Monthly Income Educational Qualifications  Family size order_date  \\\n",
       "1  more than 50000              post graduate            3 2018-04-06   \n",
       "5  more than 50000              post graduate            4 2019-08-01   \n",
       "\n",
       "   sales_qty            restaurant_name    city  rating     rating_count  \\\n",
       "1          1          theka coffee desi  abohar     3.8     100+ ratings   \n",
       "5          5  picado international food  abohar     2.0  too few ratings   \n",
       "\n",
       "   price          food_item veg_or_non_veg  Total_price  \n",
       "1   65.0  aloo tikki burger            veg         65.0  \n",
       "5   55.0  aloo tikki burger            veg        275.0  "
      ]
     },
     "execution_count": 26,
     "metadata": {},
     "output_type": "execute_result"
    }
   ],
   "source": [
    "df.head(2)"
   ]
  },
  {
   "cell_type": "markdown",
   "id": "0d1b9202",
   "metadata": {},
   "source": [
    "# Data Cleaning  Ends :) "
   ]
  },
  {
   "cell_type": "code",
   "execution_count": null,
   "id": "e52e144a",
   "metadata": {},
   "outputs": [],
   "source": []
  },
  {
   "cell_type": "markdown",
   "id": "e8126b2f",
   "metadata": {},
   "source": [
    "# Hypothesis Testing\n"
   ]
  },
  {
   "cell_type": "markdown",
   "id": "2ebab94e",
   "metadata": {},
   "source": [
    "### 1. Hypothesis: Higher-rated restaurants have higher average sales.\n",
    "Null Hypothesis (H₀): The average sales quantity is the same for high-rated and low-rated restaurants.\n",
    "Alternative Hypothesis (H₁): High-rated restaurants have significantly higher sales.\n",
    "Test: Independent t-test (compare means of two groups)."
   ]
  },
  {
   "cell_type": "code",
   "execution_count": 27,
   "id": "d982f20c",
   "metadata": {},
   "outputs": [
    {
     "name": "stdout",
     "output_type": "stream",
     "text": [
      "T-statistic: -18.851972632025067, P-value: 4.358615136178273e-79\n",
      "Reject H₀: High-rated restaurants have significantly higher sales.\n"
     ]
    }
   ],
   "source": [
    "from scipy.stats import ttest_ind\n",
    "\n",
    "# Define groups\n",
    "high_rated = df[df['rating'] >= 4.0]['sales_qty']\n",
    "low_rated = df[df['rating'] < 4.0]['sales_qty']\n",
    "\n",
    "# Perform t-test\n",
    "t_stat, p_value = ttest_ind(high_rated, low_rated, equal_var=False)\n",
    "print(f\"T-statistic: {t_stat}, P-value: {p_value}\")\n",
    "\n",
    "# Interpretation\n",
    "if p_value < 0.05:\n",
    "    print(\"Reject H₀: High-rated restaurants have significantly higher sales.\")\n",
    "else:\n",
    "    print(\"Fail to reject H₀: No significant difference in sales based on ratings.\")\n"
   ]
  },
  {
   "cell_type": "markdown",
   "id": "f07bff5b",
   "metadata": {},
   "source": [
    "### 2. Hypothesis: Customers with higher income spend more per order.\n",
    "Null Hypothesis (H₀): Monthly income has no effect on spending per order.\n",
    "Alternative Hypothesis (H₁): Higher income groups spend more per order.\n",
    "Test: ANOVA (comparing means across multiple income groups).\n"
   ]
  },
  {
   "cell_type": "code",
   "execution_count": 28,
   "id": "90a274a1",
   "metadata": {},
   "outputs": [
    {
     "name": "stdout",
     "output_type": "stream",
     "text": [
      "F-statistic: 29.238060803402647, P-value: 2.430540872925766e-24\n",
      "Reject H₀: Monthly income significantly impacts spending per order.\n"
     ]
    }
   ],
   "source": [
    "from scipy.stats import f_oneway\n",
    "\n",
    "# Create spending column\n",
    "df['total_spent'] = df['sales_qty'] * df['price']\n",
    "\n",
    "# Group data by income\n",
    "income_groups = df.groupby('Monthly Income')['total_spent'].apply(list)\n",
    "\n",
    "# Perform ANOVA test\n",
    "f_stat, p_value = f_oneway(*income_groups)\n",
    "print(f\"F-statistic: {f_stat}, P-value: {p_value}\")\n",
    "\n",
    "# Interpretation\n",
    "if p_value < 0.05:\n",
    "    print(\"Reject H₀: Monthly income significantly impacts spending per order.\")\n",
    "else:\n",
    "    print(\"Fail to reject H₀: No significant difference in spending across income groups.\")"
   ]
  },
  {
   "cell_type": "code",
   "execution_count": null,
   "id": "4fd072b8",
   "metadata": {},
   "outputs": [],
   "source": []
  },
  {
   "cell_type": "markdown",
   "id": "e4069168",
   "metadata": {},
   "source": [
    "## Customer Behaviour"
   ]
  },
  {
   "cell_type": "code",
   "execution_count": 29,
   "id": "59f0917e",
   "metadata": {},
   "outputs": [
    {
     "data": {
      "image/png": "[encoded data removed]",
      "text/plain": [
       "<Figure size 1000x500 with 1 Axes>"
      ]
     },
     "metadata": {},
     "output_type": "display_data"
    }
   ],
   "source": [
    "import matplotlib.pyplot as plt\n",
    "import seaborn as sns\n",
    "\n",
    "# Create a new column\n",
    "df['total_spent'] = df['sales_qty'] * df['price']\n",
    "\n",
    "# Plot spending distribution\n",
    "plt.figure(figsize=(10,5))\n",
    "sns.histplot(df['total_spent'], bins=30, kde=True, color='blue')\n",
    "plt.xlabel(\"Total Spent Per Order\")\n",
    "plt.ylabel(\"Frequency\")\n",
    "plt.title(\"Distribution of Customer Spending Per Order\")\n",
    "plt.show()"
   ]
  },
  {
   "cell_type": "markdown",
   "id": "e8b08803",
   "metadata": {},
   "source": [
    "## 2. Most Popular Food Items"
   ]
  },
  {
   "cell_type": "code",
   "execution_count": 30,
   "id": "ba2caa3a",
   "metadata": {},
   "outputs": [
    {
     "name": "stderr",
     "output_type": "stream",
     "text": [
      "/var/folders/wr/f46wwx5572n6gsrhb539nxv80000gn/T/ipykernel_63857/4211367314.py:3: FutureWarning: \n",
      "\n",
      "Passing `palette` without assigning `hue` is deprecated and will be removed in v0.14.0. Assign the `y` variable to `hue` and set `legend=False` for the same effect.\n",
      "\n",
      "  sns.barplot(x=top_foods.values, y=top_foods.index, palette=\"viridis\")\n"
     ]
    },
    {
     "data": {
      "image/png": "[encoded data removed]",
      "text/plain": [
       "<Figure size 1200x600 with 1 Axes>"
      ]
     },
     "metadata": {},
     "output_type": "display_data"
    }
   ],
   "source": [
    "plt.figure(figsize=(12,6))\n",
    "top_foods = df['food_item'].value_counts().head(10)\n",
    "sns.barplot(x=top_foods.values, y=top_foods.index, palette=\"viridis\")\n",
    "plt.xlabel(\"Number of Orders\")\n",
    "plt.ylabel(\"Food Item\")\n",
    "plt.title(\"Top 10 Most Ordered Food Items\")\n",
    "plt.show()\n"
   ]
  },
  {
   "cell_type": "markdown",
   "id": "8e42e70a",
   "metadata": {},
   "source": [
    "## 3. Preferred Restaurant Choices"
   ]
  },
  {
   "cell_type": "code",
   "execution_count": 31,
   "id": "a18a842b",
   "metadata": {},
   "outputs": [
    {
     "name": "stderr",
     "output_type": "stream",
     "text": [
      "/var/folders/wr/f46wwx5572n6gsrhb539nxv80000gn/T/ipykernel_63857/1195656012.py:3: FutureWarning: \n",
      "\n",
      "Passing `palette` without assigning `hue` is deprecated and will be removed in v0.14.0. Assign the `y` variable to `hue` and set `legend=False` for the same effect.\n",
      "\n",
      "  sns.barplot(x=top_restaurants.values, y=top_restaurants.index, palette=\"coolwarm\")\n"
     ]
    },
    {
     "data": {
      "image/png": "[encoded data removed]",
      "text/plain": [
       "<Figure size 1200x600 with 1 Axes>"
      ]
     },
     "metadata": {},
     "output_type": "display_data"
    }
   ],
   "source": [
    "top_restaurants = df['restaurant_name'].value_counts().head(10)\n",
    "plt.figure(figsize=(12,6))\n",
    "sns.barplot(x=top_restaurants.values, y=top_restaurants.index, palette=\"coolwarm\")\n",
    "plt.xlabel(\"Number of Orders\")\n",
    "plt.ylabel(\"Restaurant Name\")\n",
    "plt.title(\"Top 10 Most Popular Restaurants\")\n",
    "plt.show()"
   ]
  },
  {
   "cell_type": "markdown",
   "id": "732b665f",
   "metadata": {},
   "source": [
    "##  4.Customer Order Trends Over Time"
   ]
  },
  {
   "cell_type": "code",
   "execution_count": 32,
   "id": "eb5f77ad",
   "metadata": {},
   "outputs": [
    {
     "data": {
      "image/png": "[encoded data removed]",
      "text/plain": [
       "<Figure size 1200x600 with 1 Axes>"
      ]
     },
     "metadata": {},
     "output_type": "display_data"
    }
   ],
   "source": [
    "df['order_date'] = pd.to_datetime(df['order_date'])  # Ensure date format\n",
    "df['month'] = df['order_date'].dt.to_period('M')  # Extract month & year\n",
    "\n",
    "# Plot trends\n",
    "plt.figure(figsize=(12,6))\n",
    "df.groupby('month')['sales_qty'].sum().plot(marker='o', color='red')\n",
    "plt.xlabel(\"Month\")\n",
    "plt.ylabel(\"Total Orders\")\n",
    "plt.title(\"Monthly Order Trend Over Time\")\n",
    "plt.xticks(rotation=45)\n",
    "plt.show()"
   ]
  },
  {
   "cell_type": "markdown",
   "id": "331b9b80",
   "metadata": {},
   "source": [
    "## 5.Do male & female customers prefer different food categories? "
   ]
  },
  {
   "cell_type": "code",
   "execution_count": 33,
   "id": "ed5b4756",
   "metadata": {},
   "outputs": [
    {
     "data": {
      "image/png": "[encoded data removed]",
      "text/plain": [
       "<Figure size 1000x600 with 1 Axes>"
      ]
     },
     "metadata": {},
     "output_type": "display_data"
    }
   ],
   "source": [
    "plt.figure(figsize=(10,6))\n",
    "sns.countplot(x='veg_or_non_veg', hue='Gender', data=df, palette=\"magma\")\n",
    "plt.xlabel(\"Food Category\")\n",
    "plt.ylabel(\"Count\")\n",
    "plt.title(\"Food Preferences by Gender\")\n",
    "plt.show()"
   ]
  },
  {
   "cell_type": "markdown",
   "id": "43c5262a",
   "metadata": {},
   "source": [
    "## 6. Effect of Ratings on Customer Choices"
   ]
  },
  {
   "cell_type": "code",
   "execution_count": 34,
   "id": "9e023e9b",
   "metadata": {},
   "outputs": [
    {
     "data": {
      "image/png": "[encoded data removed]",
      "text/plain": [
       "<Figure size 1200x600 with 1 Axes>"
      ]
     },
     "metadata": {},
     "output_type": "display_data"
    }
   ],
   "source": [
    "plt.figure(figsize=(12,6))\n",
    "sns.boxplot(x='rating', y='sales_qty', data=df)\n",
    "plt.xlabel(\"Restaurant Rating\")\n",
    "plt.ylabel(\"Sales Quantity\")\n",
    "plt.title(\"Impact of Ratings on Sales\")\n",
    "plt.xticks(rotation=45)\n",
    "plt.show()"
   ]
  },
  {
   "cell_type": "markdown",
   "id": "f731a0bd",
   "metadata": {},
   "source": [
    "### created new columns such as year , month , day ..."
   ]
  },
  {
   "cell_type": "code",
   "execution_count": 35,
   "id": "0156cb0b",
   "metadata": {},
   "outputs": [],
   "source": [
    "df['year'] = df['order_date'].dt.year\n",
    "df['month'] = df['order_date'].dt.month\n",
    "df['day'] = df['order_date'].dt.day\n",
    "df['weekday'] = df['order_date'].dt.day_name()\n",
    "df['weekend'] = df['order_date'].dt.weekday >= 5  # True if Saturday or Sunday\n",
    "\n"
   ]
  },
  {
   "cell_type": "code",
   "execution_count": 36,
   "id": "224732ca",
   "metadata": {},
   "outputs": [
    {
     "data": {
      "image/png": "[encoded data removed]",
      "text/plain": [
       "<Figure size 1000x400 with 1 Axes>"
      ]
     },
     "metadata": {},
     "output_type": "display_data"
    },
    {
     "name": "stderr",
     "output_type": "stream",
     "text": [
      "/var/folders/wr/f46wwx5572n6gsrhb539nxv80000gn/T/ipykernel_63857/2692216476.py:12: FutureWarning: \n",
      "\n",
      "Passing `palette` without assigning `hue` is deprecated and will be removed in v0.14.0. Assign the `x` variable to `hue` and set `legend=False` for the same effect.\n",
      "\n",
      "  sns.countplot(data=df, x=\"month\", palette=\"viridis\")\n"
     ]
    },
    {
     "data": {
      "image/png": "[encoded data removed]",
      "text/plain": [
       "<Figure size 1000x400 with 1 Axes>"
      ]
     },
     "metadata": {},
     "output_type": "display_data"
    }
   ],
   "source": [
    "# Orders by Weekday\n",
    "plt.figure(figsize=(10,4))\n",
    "sns.countplot(data=df, x=\"weekday\", order=['Monday', 'Tuesday', 'Wednesday', 'Thursday', 'Friday', 'Saturday', 'Sunday'])\n",
    "plt.title(\"Orders by Day of the Week\")\n",
    "plt.xlabel(\"Day\")\n",
    "plt.ylabel(\"Order Count\")\n",
    "plt.xticks(rotation=45)\n",
    "plt.show()\n",
    "\n",
    "# Orders by Month\n",
    "plt.figure(figsize=(10,4))\n",
    "sns.countplot(data=df, x=\"month\", palette=\"viridis\")\n",
    "plt.title(\"Orders by Month\")\n",
    "plt.xlabel(\"Month\")\n",
    "plt.ylabel(\"Order Count\")\n",
    "plt.show()"
   ]
  },
  {
   "cell_type": "markdown",
   "id": "d4bbfc96",
   "metadata": {},
   "source": [
    "### Create our target variable and done label encoding"
   ]
  },
  {
   "cell_type": "code",
   "execution_count": 37,
   "id": "f7b4bf8e",
   "metadata": {},
   "outputs": [
    {
     "data": {
      "text/html": [
       "<div>\n",
       "<style scoped>\n",
       "    .dataframe tbody tr th:only-of-type {\n",
       "        vertical-align: middle;\n",
       "    }\n",
       "\n",
       "    .dataframe tbody tr th {\n",
       "        vertical-align: top;\n",
       "    }\n",
       "\n",
       "    .dataframe thead th {\n",
       "        text-align: right;\n",
       "    }\n",
       "</style>\n",
       "<table border=\"1\" class=\"dataframe\">\n",
       "  <thead>\n",
       "    <tr style=\"text-align: right;\">\n",
       "      <th></th>\n",
       "      <th>order_date</th>\n",
       "      <th>restaurant_name</th>\n",
       "      <th>daily_demand</th>\n",
       "      <th>city_encoded</th>\n",
       "      <th>food_encoded</th>\n",
       "    </tr>\n",
       "  </thead>\n",
       "  <tbody>\n",
       "    <tr>\n",
       "      <th>1</th>\n",
       "      <td>2018-04-06</td>\n",
       "      <td>theka coffee desi</td>\n",
       "      <td>165</td>\n",
       "      <td>0</td>\n",
       "      <td>233</td>\n",
       "    </tr>\n",
       "    <tr>\n",
       "      <th>5</th>\n",
       "      <td>2019-08-01</td>\n",
       "      <td>picado international food</td>\n",
       "      <td>120</td>\n",
       "      <td>0</td>\n",
       "      <td>233</td>\n",
       "    </tr>\n",
       "    <tr>\n",
       "      <th>6</th>\n",
       "      <td>2019-02-08</td>\n",
       "      <td>sagar fast food</td>\n",
       "      <td>22</td>\n",
       "      <td>0</td>\n",
       "      <td>233</td>\n",
       "    </tr>\n",
       "  </tbody>\n",
       "</table>\n",
       "</div>"
      ],
      "text/plain": [
       "  order_date            restaurant_name  daily_demand  city_encoded  \\\n",
       "1 2018-04-06          theka coffee desi           165             0   \n",
       "5 2019-08-01  picado international food           120             0   \n",
       "6 2019-02-08            sagar fast food            22             0   \n",
       "\n",
       "   food_encoded  \n",
       "1           233  \n",
       "5           233  \n",
       "6           233  "
      ]
     },
     "execution_count": 37,
     "metadata": {},
     "output_type": "execute_result"
    }
   ],
   "source": [
    "# Total Orderrs per Restaurant per Day\n",
    "df['daily_demand'] = df.groupby(['restaurant_name', 'order_date'])['order_date'].transform('count')\n",
    "\n",
    "\n",
    "# Encode Categorical Variables (For ML Models)\n",
    "df['city_encoded'] = df['city'].astype('category').cat.codes\n",
    "df['restaurant_encoded'] = df['restaurant_name'].astype('category').cat.codes\n",
    "df['food_encoded'] = df['food_item'].astype('category').cat.codes\n",
    "\n",
    "# Display dataset with new features\n",
    "df[['order_date', 'restaurant_name', 'daily_demand', 'city_encoded', 'food_encoded']].head(3)"
   ]
  },
  {
   "cell_type": "code",
   "execution_count": 38,
   "id": "e8d0bd92",
   "metadata": {},
   "outputs": [
    {
     "data": {
      "text/html": [
       "<div>\n",
       "<style scoped>\n",
       "    .dataframe tbody tr th:only-of-type {\n",
       "        vertical-align: middle;\n",
       "    }\n",
       "\n",
       "    .dataframe tbody tr th {\n",
       "        vertical-align: top;\n",
       "    }\n",
       "\n",
       "    .dataframe thead th {\n",
       "        text-align: right;\n",
       "    }\n",
       "</style>\n",
       "<table border=\"1\" class=\"dataframe\">\n",
       "  <thead>\n",
       "    <tr style=\"text-align: right;\">\n",
       "      <th></th>\n",
       "      <th>user_id</th>\n",
       "      <th>name</th>\n",
       "      <th>Age</th>\n",
       "      <th>Gender</th>\n",
       "      <th>Marital Status</th>\n",
       "      <th>Occupation</th>\n",
       "      <th>Monthly Income</th>\n",
       "      <th>Educational Qualifications</th>\n",
       "      <th>Family size</th>\n",
       "      <th>order_date</th>\n",
       "      <th>...</th>\n",
       "      <th>total_spent</th>\n",
       "      <th>month</th>\n",
       "      <th>year</th>\n",
       "      <th>day</th>\n",
       "      <th>weekday</th>\n",
       "      <th>weekend</th>\n",
       "      <th>daily_demand</th>\n",
       "      <th>city_encoded</th>\n",
       "      <th>restaurant_encoded</th>\n",
       "      <th>food_encoded</th>\n",
       "    </tr>\n",
       "  </thead>\n",
       "  <tbody>\n",
       "    <tr>\n",
       "      <th>1</th>\n",
       "      <td>5321</td>\n",
       "      <td>donald anderson</td>\n",
       "      <td>24</td>\n",
       "      <td>male</td>\n",
       "      <td>married</td>\n",
       "      <td>employee</td>\n",
       "      <td>more than 50000</td>\n",
       "      <td>post graduate</td>\n",
       "      <td>3</td>\n",
       "      <td>2018-04-06</td>\n",
       "      <td>...</td>\n",
       "      <td>65.0</td>\n",
       "      <td>4</td>\n",
       "      <td>2018</td>\n",
       "      <td>6</td>\n",
       "      <td>Friday</td>\n",
       "      <td>False</td>\n",
       "      <td>165</td>\n",
       "      <td>0</td>\n",
       "      <td>7243</td>\n",
       "      <td>233</td>\n",
       "    </tr>\n",
       "    <tr>\n",
       "      <th>5</th>\n",
       "      <td>68553</td>\n",
       "      <td>sara blake</td>\n",
       "      <td>25</td>\n",
       "      <td>male</td>\n",
       "      <td>married</td>\n",
       "      <td>self employeed</td>\n",
       "      <td>more than 50000</td>\n",
       "      <td>post graduate</td>\n",
       "      <td>4</td>\n",
       "      <td>2019-08-01</td>\n",
       "      <td>...</td>\n",
       "      <td>275.0</td>\n",
       "      <td>8</td>\n",
       "      <td>2019</td>\n",
       "      <td>1</td>\n",
       "      <td>Thursday</td>\n",
       "      <td>False</td>\n",
       "      <td>120</td>\n",
       "      <td>0</td>\n",
       "      <td>5053</td>\n",
       "      <td>233</td>\n",
       "    </tr>\n",
       "  </tbody>\n",
       "</table>\n",
       "<p>2 rows × 29 columns</p>\n",
       "</div>"
      ],
      "text/plain": [
       "   user_id             name  Age Gender Marital Status      Occupation  \\\n",
       "1     5321  donald anderson   24   male        married        employee   \n",
       "5    68553       sara blake   25   male        married  self employeed   \n",
       "\n",
       "    Monthly Income Educational Qualifications  Family size order_date  ...  \\\n",
       "1  more than 50000              post graduate            3 2018-04-06  ...   \n",
       "5  more than 50000              post graduate            4 2019-08-01  ...   \n",
       "\n",
       "   total_spent month  year  day   weekday  weekend daily_demand city_encoded  \\\n",
       "1         65.0     4  2018    6    Friday    False          165            0   \n",
       "5        275.0     8  2019    1  Thursday    False          120            0   \n",
       "\n",
       "   restaurant_encoded  food_encoded  \n",
       "1                7243           233  \n",
       "5                5053           233  \n",
       "\n",
       "[2 rows x 29 columns]"
      ]
     },
     "execution_count": 38,
     "metadata": {},
     "output_type": "execute_result"
    }
   ],
   "source": [
    "df.head(2)"
   ]
  },
  {
   "cell_type": "markdown",
   "id": "cf11d6d1",
   "metadata": {},
   "source": [
    "### Drop unnecessary columns"
   ]
  },
  {
   "cell_type": "code",
   "execution_count": 39,
   "id": "b4d89f57",
   "metadata": {},
   "outputs": [],
   "source": [
    "drop_cols = ['user_id', 'name', 'Monthly Income', 'Educational Qualifications', 'Occupation','income_numeric']\n",
    "df = df.drop(columns=drop_cols, errors='ignore')"
   ]
  },
  {
   "cell_type": "code",
   "execution_count": 40,
   "id": "f6d14720",
   "metadata": {},
   "outputs": [
    {
     "name": "stdout",
     "output_type": "stream",
     "text": [
      "<class 'pandas.core.frame.DataFrame'>\n",
      "Index: 198772 entries, 1 to 261358\n",
      "Data columns (total 24 columns):\n",
      " #   Column              Non-Null Count   Dtype         \n",
      "---  ------              --------------   -----         \n",
      " 0   Age                 198772 non-null  int64         \n",
      " 1   Gender              198772 non-null  object        \n",
      " 2   Marital Status      198772 non-null  object        \n",
      " 3   Family size         198772 non-null  int64         \n",
      " 4   order_date          198772 non-null  datetime64[ns]\n",
      " 5   sales_qty           198772 non-null  int64         \n",
      " 6   restaurant_name     198772 non-null  object        \n",
      " 7   city                198772 non-null  object        \n",
      " 8   rating              198772 non-null  float64       \n",
      " 9   rating_count        198772 non-null  object        \n",
      " 10  price               198772 non-null  float64       \n",
      " 11  food_item           198772 non-null  object        \n",
      " 12  veg_or_non_veg      198772 non-null  object        \n",
      " 13  Total_price         198772 non-null  float64       \n",
      " 14  total_spent         198772 non-null  float64       \n",
      " 15  month               198772 non-null  int32         \n",
      " 16  year                198772 non-null  int32         \n",
      " 17  day                 198772 non-null  int32         \n",
      " 18  weekday             198772 non-null  object        \n",
      " 19  weekend             198772 non-null  bool          \n",
      " 20  daily_demand        198772 non-null  int64         \n",
      " 21  city_encoded        198772 non-null  int8          \n",
      " 22  restaurant_encoded  198772 non-null  int16         \n",
      " 23  food_encoded        198772 non-null  int16         \n",
      "dtypes: bool(1), datetime64[ns](1), float64(4), int16(2), int32(3), int64(4), int8(1), object(8)\n",
      "memory usage: 30.7+ MB\n"
     ]
    }
   ],
   "source": [
    "df.info()"
   ]
  },
  {
   "cell_type": "code",
   "execution_count": 41,
   "id": "a899d964",
   "metadata": {},
   "outputs": [],
   "source": [
    "X = df[['month', 'weekday', 'weekend',  'restaurant_encoded', 'food_encoded', 'price', 'rating', 'city_encoded']]\n",
    "y = df['daily_demand']  # Target variable"
   ]
  },
  {
   "cell_type": "code",
   "execution_count": 42,
   "id": "3724a9f8",
   "metadata": {},
   "outputs": [],
   "source": [
    "weekday_mapping = {\n",
    "    \"Monday\": 0, \"Tuesday\": 1, \"Wednesday\": 2, \n",
    "    \"Thursday\": 3, \"Friday\": 4, \"Saturday\": 5, \"Sunday\": 6\n",
    "}\n",
    "\n",
    "# Apply the mapping to both X_train and X_test\n",
    "X['weekday'] = X['weekday'].map(weekday_mapping)"
   ]
  },
  {
   "cell_type": "code",
   "execution_count": 43,
   "id": "82471d72",
   "metadata": {},
   "outputs": [],
   "source": [
    "X['weekend'] = X['weekend'].astype(int)\n",
    "X['weekend'] = X['weekend'].astype(int)\n"
   ]
  },
  {
   "cell_type": "code",
   "execution_count": 44,
   "id": "c2a05d80",
   "metadata": {},
   "outputs": [
    {
     "data": {
      "text/html": [
       "<div>\n",
       "<style scoped>\n",
       "    .dataframe tbody tr th:only-of-type {\n",
       "        vertical-align: middle;\n",
       "    }\n",
       "\n",
       "    .dataframe tbody tr th {\n",
       "        vertical-align: top;\n",
       "    }\n",
       "\n",
       "    .dataframe thead th {\n",
       "        text-align: right;\n",
       "    }\n",
       "</style>\n",
       "<table border=\"1\" class=\"dataframe\">\n",
       "  <thead>\n",
       "    <tr style=\"text-align: right;\">\n",
       "      <th></th>\n",
       "      <th>month</th>\n",
       "      <th>weekday</th>\n",
       "      <th>weekend</th>\n",
       "      <th>restaurant_encoded</th>\n",
       "      <th>food_encoded</th>\n",
       "      <th>price</th>\n",
       "      <th>rating</th>\n",
       "      <th>city_encoded</th>\n",
       "    </tr>\n",
       "  </thead>\n",
       "  <tbody>\n",
       "    <tr>\n",
       "      <th>1</th>\n",
       "      <td>4</td>\n",
       "      <td>4</td>\n",
       "      <td>0</td>\n",
       "      <td>7243</td>\n",
       "      <td>233</td>\n",
       "      <td>65.0</td>\n",
       "      <td>3.8</td>\n",
       "      <td>0</td>\n",
       "    </tr>\n",
       "    <tr>\n",
       "      <th>5</th>\n",
       "      <td>8</td>\n",
       "      <td>3</td>\n",
       "      <td>0</td>\n",
       "      <td>5053</td>\n",
       "      <td>233</td>\n",
       "      <td>55.0</td>\n",
       "      <td>2.0</td>\n",
       "      <td>0</td>\n",
       "    </tr>\n",
       "    <tr>\n",
       "      <th>6</th>\n",
       "      <td>2</td>\n",
       "      <td>4</td>\n",
       "      <td>0</td>\n",
       "      <td>5730</td>\n",
       "      <td>233</td>\n",
       "      <td>45.0</td>\n",
       "      <td>2.0</td>\n",
       "      <td>0</td>\n",
       "    </tr>\n",
       "    <tr>\n",
       "      <th>8</th>\n",
       "      <td>3</td>\n",
       "      <td>4</td>\n",
       "      <td>0</td>\n",
       "      <td>6889</td>\n",
       "      <td>233</td>\n",
       "      <td>179.0</td>\n",
       "      <td>3.7</td>\n",
       "      <td>2</td>\n",
       "    </tr>\n",
       "    <tr>\n",
       "      <th>9</th>\n",
       "      <td>5</td>\n",
       "      <td>1</td>\n",
       "      <td>0</td>\n",
       "      <td>6889</td>\n",
       "      <td>233</td>\n",
       "      <td>179.0</td>\n",
       "      <td>3.7</td>\n",
       "      <td>2</td>\n",
       "    </tr>\n",
       "    <tr>\n",
       "      <th>...</th>\n",
       "      <td>...</td>\n",
       "      <td>...</td>\n",
       "      <td>...</td>\n",
       "      <td>...</td>\n",
       "      <td>...</td>\n",
       "      <td>...</td>\n",
       "      <td>...</td>\n",
       "      <td>...</td>\n",
       "    </tr>\n",
       "    <tr>\n",
       "      <th>261353</th>\n",
       "      <td>8</td>\n",
       "      <td>4</td>\n",
       "      <td>0</td>\n",
       "      <td>7440</td>\n",
       "      <td>2924</td>\n",
       "      <td>120.0</td>\n",
       "      <td>2.0</td>\n",
       "      <td>6</td>\n",
       "    </tr>\n",
       "    <tr>\n",
       "      <th>261354</th>\n",
       "      <td>1</td>\n",
       "      <td>3</td>\n",
       "      <td>0</td>\n",
       "      <td>4995</td>\n",
       "      <td>1975</td>\n",
       "      <td>149.0</td>\n",
       "      <td>2.0</td>\n",
       "      <td>5</td>\n",
       "    </tr>\n",
       "    <tr>\n",
       "      <th>261355</th>\n",
       "      <td>9</td>\n",
       "      <td>6</td>\n",
       "      <td>1</td>\n",
       "      <td>6446</td>\n",
       "      <td>3185</td>\n",
       "      <td>226.0</td>\n",
       "      <td>2.0</td>\n",
       "      <td>24</td>\n",
       "    </tr>\n",
       "    <tr>\n",
       "      <th>261357</th>\n",
       "      <td>8</td>\n",
       "      <td>4</td>\n",
       "      <td>0</td>\n",
       "      <td>7440</td>\n",
       "      <td>545</td>\n",
       "      <td>40.0</td>\n",
       "      <td>2.0</td>\n",
       "      <td>6</td>\n",
       "    </tr>\n",
       "    <tr>\n",
       "      <th>261358</th>\n",
       "      <td>7</td>\n",
       "      <td>4</td>\n",
       "      <td>0</td>\n",
       "      <td>451</td>\n",
       "      <td>3233</td>\n",
       "      <td>149.0</td>\n",
       "      <td>2.0</td>\n",
       "      <td>57</td>\n",
       "    </tr>\n",
       "  </tbody>\n",
       "</table>\n",
       "<p>198772 rows × 8 columns</p>\n",
       "</div>"
      ],
      "text/plain": [
       "        month  weekday  weekend  restaurant_encoded  food_encoded  price  \\\n",
       "1           4        4        0                7243           233   65.0   \n",
       "5           8        3        0                5053           233   55.0   \n",
       "6           2        4        0                5730           233   45.0   \n",
       "8           3        4        0                6889           233  179.0   \n",
       "9           5        1        0                6889           233  179.0   \n",
       "...       ...      ...      ...                 ...           ...    ...   \n",
       "261353      8        4        0                7440          2924  120.0   \n",
       "261354      1        3        0                4995          1975  149.0   \n",
       "261355      9        6        1                6446          3185  226.0   \n",
       "261357      8        4        0                7440           545   40.0   \n",
       "261358      7        4        0                 451          3233  149.0   \n",
       "\n",
       "        rating  city_encoded  \n",
       "1          3.8             0  \n",
       "5          2.0             0  \n",
       "6          2.0             0  \n",
       "8          3.7             2  \n",
       "9          3.7             2  \n",
       "...        ...           ...  \n",
       "261353     2.0             6  \n",
       "261354     2.0             5  \n",
       "261355     2.0            24  \n",
       "261357     2.0             6  \n",
       "261358     2.0            57  \n",
       "\n",
       "[198772 rows x 8 columns]"
      ]
     },
     "execution_count": 44,
     "metadata": {},
     "output_type": "execute_result"
    }
   ],
   "source": [
    "X"
   ]
  },
  {
   "cell_type": "code",
   "execution_count": 45,
   "id": "77ad9e81",
   "metadata": {},
   "outputs": [],
   "source": [
    "from sklearn.model_selection import train_test_split\n",
    "X_train, X_test, y_train, y_test = train_test_split(X, y, test_size=0.2, random_state=42)"
   ]
  },
  {
   "cell_type": "code",
   "execution_count": 46,
   "id": "16a50835",
   "metadata": {},
   "outputs": [],
   "source": [
    "from sklearn.ensemble import RandomForestRegressor\n",
    "rf_model = RandomForestRegressor(n_estimators=100, max_depth=10, random_state=42)\n"
   ]
  },
  {
   "cell_type": "code",
   "execution_count": 47,
   "id": "6cde151e",
   "metadata": {},
   "outputs": [
    {
     "data": {
      "text/html": [
       "<style>#sk-container-id-1 {\n",
       "  /* Definition of color scheme common for light and dark mode */\n",
       "  --sklearn-color-text: black;\n",
       "  --sklearn-color-line: gray;\n",
       "  /* Definition of color scheme for unfitted estimators */\n",
       "  --sklearn-color-unfitted-level-0: #fff5e6;\n",
       "  --sklearn-color-unfitted-level-1: #f6e4d2;\n",
       "  --sklearn-color-unfitted-level-2: #ffe0b3;\n",
       "  --sklearn-color-unfitted-level-3: chocolate;\n",
       "  /* Definition of color scheme for fitted estimators */\n",
       "  --sklearn-color-fitted-level-0: #f0f8ff;\n",
       "  --sklearn-color-fitted-level-1: #d4ebff;\n",
       "  --sklearn-color-fitted-level-2: #b3dbfd;\n",
       "  --sklearn-color-fitted-level-3: cornflowerblue;\n",
       "\n",
       "  /* Specific color for light theme */\n",
       "  --sklearn-color-text-on-default-background: var(--sg-text-color, var(--theme-code-foreground, var(--jp-content-font-color1, black)));\n",
       "  --sklearn-color-background: var(--sg-background-color, var(--theme-background, var(--jp-layout-color0, white)));\n",
       "  --sklearn-color-border-box: var(--sg-text-color, var(--theme-code-foreground, var(--jp-content-font-color1, black)));\n",
       "  --sklearn-color-icon: #696969;\n",
       "\n",
       "  @media (prefers-color-scheme: dark) {\n",
       "    /* Redefinition of color scheme for dark theme */\n",
       "    --sklearn-color-text-on-default-background: var(--sg-text-color, var(--theme-code-foreground, var(--jp-content-font-color1, white)));\n",
       "    --sklearn-color-background: var(--sg-background-color, var(--theme-background, var(--jp-layout-color0, #111)));\n",
       "    --sklearn-color-border-box: var(--sg-text-color, var(--theme-code-foreground, var(--jp-content-font-color1, white)));\n",
       "    --sklearn-color-icon: #878787;\n",
       "  }\n",
       "}\n",
       "\n",
       "#sk-container-id-1 {\n",
       "  color: var(--sklearn-color-text);\n",
       "}\n",
       "\n",
       "#sk-container-id-1 pre {\n",
       "  padding: 0;\n",
       "}\n",
       "\n",
       "#sk-container-id-1 input.sk-hidden--visually {\n",
       "  border: 0;\n",
       "  clip: rect(1px 1px 1px 1px);\n",
       "  clip: rect(1px, 1px, 1px, 1px);\n",
       "  height: 1px;\n",
       "  margin: -1px;\n",
       "  overflow: hidden;\n",
       "  padding: 0;\n",
       "  position: absolute;\n",
       "  width: 1px;\n",
       "}\n",
       "\n",
       "#sk-container-id-1 div.sk-dashed-wrapped {\n",
       "  border: 1px dashed var(--sklearn-color-line);\n",
       "  margin: 0 0.4em 0.5em 0.4em;\n",
       "  box-sizing: border-box;\n",
       "  padding-bottom: 0.4em;\n",
       "  background-color: var(--sklearn-color-background);\n",
       "}\n",
       "\n",
       "#sk-container-id-1 div.sk-container {\n",
       "  /* jupyter's `normalize.less` sets `[hidden] { display: none; }`\n",
       "     but bootstrap.min.css set `[hidden] { display: none !important; }`\n",
       "     so we also need the `!important` here to be able to override the\n",
       "     default hidden behavior on the sphinx rendered scikit-learn.org.\n",
       "     See: https://github.com/scikit-learn/scikit-learn/issues/21755 */\n",
       "  display: inline-block !important;\n",
       "  position: relative;\n",
       "}\n",
       "\n",
       "#sk-container-id-1 div.sk-text-repr-fallback {\n",
       "  display: none;\n",
       "}\n",
       "\n",
       "div.sk-parallel-item,\n",
       "div.sk-serial,\n",
       "div.sk-item {\n",
       "  /* draw centered vertical line to link estimators */\n",
       "  background-image: linear-gradient(var(--sklearn-color-text-on-default-background), var(--sklearn-color-text-on-default-background));\n",
       "  background-size: 2px 100%;\n",
       "  background-repeat: no-repeat;\n",
       "  background-position: center center;\n",
       "}\n",
       "\n",
       "/* Parallel-specific style estimator block */\n",
       "\n",
       "#sk-container-id-1 div.sk-parallel-item::after {\n",
       "  content: \"\";\n",
       "  width: 100%;\n",
       "  border-bottom: 2px solid var(--sklearn-color-text-on-default-background);\n",
       "  flex-grow: 1;\n",
       "}\n",
       "\n",
       "#sk-container-id-1 div.sk-parallel {\n",
       "  display: flex;\n",
       "  align-items: stretch;\n",
       "  justify-content: center;\n",
       "  background-color: var(--sklearn-color-background);\n",
       "  position: relative;\n",
       "}\n",
       "\n",
       "#sk-container-id-1 div.sk-parallel-item {\n",
       "  display: flex;\n",
       "  flex-direction: column;\n",
       "}\n",
       "\n",
       "#sk-container-id-1 div.sk-parallel-item:first-child::after {\n",
       "  align-self: flex-end;\n",
       "  width: 50%;\n",
       "}\n",
       "\n",
       "#sk-container-id-1 div.sk-parallel-item:last-child::after {\n",
       "  align-self: flex-start;\n",
       "  width: 50%;\n",
       "}\n",
       "\n",
       "#sk-container-id-1 div.sk-parallel-item:only-child::after {\n",
       "  width: 0;\n",
       "}\n",
       "\n",
       "/* Serial-specific style estimator block */\n",
       "\n",
       "#sk-container-id-1 div.sk-serial {\n",
       "  display: flex;\n",
       "  flex-direction: column;\n",
       "  align-items: center;\n",
       "  background-color: var(--sklearn-color-background);\n",
       "  padding-right: 1em;\n",
       "  padding-left: 1em;\n",
       "}\n",
       "\n",
       "\n",
       "/* Toggleable style: style used for estimator/Pipeline/ColumnTransformer box that is\n",
       "clickable and can be expanded/collapsed.\n",
       "- Pipeline and ColumnTransformer use this feature and define the default style\n",
       "- Estimators will overwrite some part of the style using the `sk-estimator` class\n",
       "*/\n",
       "\n",
       "/* Pipeline and ColumnTransformer style (default) */\n",
       "\n",
       "#sk-container-id-1 div.sk-toggleable {\n",
       "  /* Default theme specific background. It is overwritten whether we have a\n",
       "  specific estimator or a Pipeline/ColumnTransformer */\n",
       "  background-color: var(--sklearn-color-background);\n",
       "}\n",
       "\n",
       "/* Toggleable label */\n",
       "#sk-container-id-1 label.sk-toggleable__label {\n",
       "  cursor: pointer;\n",
       "  display: block;\n",
       "  width: 100%;\n",
       "  margin-bottom: 0;\n",
       "  padding: 0.5em;\n",
       "  box-sizing: border-box;\n",
       "  text-align: center;\n",
       "}\n",
       "\n",
       "#sk-container-id-1 label.sk-toggleable__label-arrow:before {\n",
       "  /* Arrow on the left of the label */\n",
       "  content: \"▸\";\n",
       "  float: left;\n",
       "  margin-right: 0.25em;\n",
       "  color: var(--sklearn-color-icon);\n",
       "}\n",
       "\n",
       "#sk-container-id-1 label.sk-toggleable__label-arrow:hover:before {\n",
       "  color: var(--sklearn-color-text);\n",
       "}\n",
       "\n",
       "/* Toggleable content - dropdown */\n",
       "\n",
       "#sk-container-id-1 div.sk-toggleable__content {\n",
       "  max-height: 0;\n",
       "  max-width: 0;\n",
       "  overflow: hidden;\n",
       "  text-align: left;\n",
       "  /* unfitted */\n",
       "  background-color: var(--sklearn-color-unfitted-level-0);\n",
       "}\n",
       "\n",
       "#sk-container-id-1 div.sk-toggleable__content.fitted {\n",
       "  /* fitted */\n",
       "  background-color: var(--sklearn-color-fitted-level-0);\n",
       "}\n",
       "\n",
       "#sk-container-id-1 div.sk-toggleable__content pre {\n",
       "  margin: 0.2em;\n",
       "  border-radius: 0.25em;\n",
       "  color: var(--sklearn-color-text);\n",
       "  /* unfitted */\n",
       "  background-color: var(--sklearn-color-unfitted-level-0);\n",
       "}\n",
       "\n",
       "#sk-container-id-1 div.sk-toggleable__content.fitted pre {\n",
       "  /* unfitted */\n",
       "  background-color: var(--sklearn-color-fitted-level-0);\n",
       "}\n",
       "\n",
       "#sk-container-id-1 input.sk-toggleable__control:checked~div.sk-toggleable__content {\n",
       "  /* Expand drop-down */\n",
       "  max-height: 200px;\n",
       "  max-width: 100%;\n",
       "  overflow: auto;\n",
       "}\n",
       "\n",
       "#sk-container-id-1 input.sk-toggleable__control:checked~label.sk-toggleable__label-arrow:before {\n",
       "  content: \"▾\";\n",
       "}\n",
       "\n",
       "/* Pipeline/ColumnTransformer-specific style */\n",
       "\n",
       "#sk-container-id-1 div.sk-label input.sk-toggleable__control:checked~label.sk-toggleable__label {\n",
       "  color: var(--sklearn-color-text);\n",
       "  background-color: var(--sklearn-color-unfitted-level-2);\n",
       "}\n",
       "\n",
       "#sk-container-id-1 div.sk-label.fitted input.sk-toggleable__control:checked~label.sk-toggleable__label {\n",
       "  background-color: var(--sklearn-color-fitted-level-2);\n",
       "}\n",
       "\n",
       "/* Estimator-specific style */\n",
       "\n",
       "/* Colorize estimator box */\n",
       "#sk-container-id-1 div.sk-estimator input.sk-toggleable__control:checked~label.sk-toggleable__label {\n",
       "  /* unfitted */\n",
       "  background-color: var(--sklearn-color-unfitted-level-2);\n",
       "}\n",
       "\n",
       "#sk-container-id-1 div.sk-estimator.fitted input.sk-toggleable__control:checked~label.sk-toggleable__label {\n",
       "  /* fitted */\n",
       "  background-color: var(--sklearn-color-fitted-level-2);\n",
       "}\n",
       "\n",
       "#sk-container-id-1 div.sk-label label.sk-toggleable__label,\n",
       "#sk-container-id-1 div.sk-label label {\n",
       "  /* The background is the default theme color */\n",
       "  color: var(--sklearn-color-text-on-default-background);\n",
       "}\n",
       "\n",
       "/* On hover, darken the color of the background */\n",
       "#sk-container-id-1 div.sk-label:hover label.sk-toggleable__label {\n",
       "  color: var(--sklearn-color-text);\n",
       "  background-color: var(--sklearn-color-unfitted-level-2);\n",
       "}\n",
       "\n",
       "/* Label box, darken color on hover, fitted */\n",
       "#sk-container-id-1 div.sk-label.fitted:hover label.sk-toggleable__label.fitted {\n",
       "  color: var(--sklearn-color-text);\n",
       "  background-color: var(--sklearn-color-fitted-level-2);\n",
       "}\n",
       "\n",
       "/* Estimator label */\n",
       "\n",
       "#sk-container-id-1 div.sk-label label {\n",
       "  font-family: monospace;\n",
       "  font-weight: bold;\n",
       "  display: inline-block;\n",
       "  line-height: 1.2em;\n",
       "}\n",
       "\n",
       "#sk-container-id-1 div.sk-label-container {\n",
       "  text-align: center;\n",
       "}\n",
       "\n",
       "/* Estimator-specific */\n",
       "#sk-container-id-1 div.sk-estimator {\n",
       "  font-family: monospace;\n",
       "  border: 1px dotted var(--sklearn-color-border-box);\n",
       "  border-radius: 0.25em;\n",
       "  box-sizing: border-box;\n",
       "  margin-bottom: 0.5em;\n",
       "  /* unfitted */\n",
       "  background-color: var(--sklearn-color-unfitted-level-0);\n",
       "}\n",
       "\n",
       "#sk-container-id-1 div.sk-estimator.fitted {\n",
       "  /* fitted */\n",
       "  background-color: var(--sklearn-color-fitted-level-0);\n",
       "}\n",
       "\n",
       "/* on hover */\n",
       "#sk-container-id-1 div.sk-estimator:hover {\n",
       "  /* unfitted */\n",
       "  background-color: var(--sklearn-color-unfitted-level-2);\n",
       "}\n",
       "\n",
       "#sk-container-id-1 div.sk-estimator.fitted:hover {\n",
       "  /* fitted */\n",
       "  background-color: var(--sklearn-color-fitted-level-2);\n",
       "}\n",
       "\n",
       "/* Specification for estimator info (e.g. \"i\" and \"?\") */\n",
       "\n",
       "/* Common style for \"i\" and \"?\" */\n",
       "\n",
       ".sk-estimator-doc-link,\n",
       "a:link.sk-estimator-doc-link,\n",
       "a:visited.sk-estimator-doc-link {\n",
       "  float: right;\n",
       "  font-size: smaller;\n",
       "  line-height: 1em;\n",
       "  font-family: monospace;\n",
       "  background-color: var(--sklearn-color-background);\n",
       "  border-radius: 1em;\n",
       "  height: 1em;\n",
       "  width: 1em;\n",
       "  text-decoration: none !important;\n",
       "  margin-left: 1ex;\n",
       "  /* unfitted */\n",
       "  border: var(--sklearn-color-unfitted-level-1) 1pt solid;\n",
       "  color: var(--sklearn-color-unfitted-level-1);\n",
       "}\n",
       "\n",
       ".sk-estimator-doc-link.fitted,\n",
       "a:link.sk-estimator-doc-link.fitted,\n",
       "a:visited.sk-estimator-doc-link.fitted {\n",
       "  /* fitted */\n",
       "  border: var(--sklearn-color-fitted-level-1) 1pt solid;\n",
       "  color: var(--sklearn-color-fitted-level-1);\n",
       "}\n",
       "\n",
       "/* On hover */\n",
       "div.sk-estimator:hover .sk-estimator-doc-link:hover,\n",
       ".sk-estimator-doc-link:hover,\n",
       "div.sk-label-container:hover .sk-estimator-doc-link:hover,\n",
       ".sk-estimator-doc-link:hover {\n",
       "  /* unfitted */\n",
       "  background-color: var(--sklearn-color-unfitted-level-3);\n",
       "  color: var(--sklearn-color-background);\n",
       "  text-decoration: none;\n",
       "}\n",
       "\n",
       "div.sk-estimator.fitted:hover .sk-estimator-doc-link.fitted:hover,\n",
       ".sk-estimator-doc-link.fitted:hover,\n",
       "div.sk-label-container:hover .sk-estimator-doc-link.fitted:hover,\n",
       ".sk-estimator-doc-link.fitted:hover {\n",
       "  /* fitted */\n",
       "  background-color: var(--sklearn-color-fitted-level-3);\n",
       "  color: var(--sklearn-color-background);\n",
       "  text-decoration: none;\n",
       "}\n",
       "\n",
       "/* Span, style for the box shown on hovering the info icon */\n",
       ".sk-estimator-doc-link span {\n",
       "  display: none;\n",
       "  z-index: 9999;\n",
       "  position: relative;\n",
       "  font-weight: normal;\n",
       "  right: .2ex;\n",
       "  padding: .5ex;\n",
       "  margin: .5ex;\n",
       "  width: min-content;\n",
       "  min-width: 20ex;\n",
       "  max-width: 50ex;\n",
       "  color: var(--sklearn-color-text);\n",
       "  box-shadow: 2pt 2pt 4pt #999;\n",
       "  /* unfitted */\n",
       "  background: var(--sklearn-color-unfitted-level-0);\n",
       "  border: .5pt solid var(--sklearn-color-unfitted-level-3);\n",
       "}\n",
       "\n",
       ".sk-estimator-doc-link.fitted span {\n",
       "  /* fitted */\n",
       "  background: var(--sklearn-color-fitted-level-0);\n",
       "  border: var(--sklearn-color-fitted-level-3);\n",
       "}\n",
       "\n",
       ".sk-estimator-doc-link:hover span {\n",
       "  display: block;\n",
       "}\n",
       "\n",
       "/* \"?\"-specific style due to the `<a>` HTML tag */\n",
       "\n",
       "#sk-container-id-1 a.estimator_doc_link {\n",
       "  float: right;\n",
       "  font-size: 1rem;\n",
       "  line-height: 1em;\n",
       "  font-family: monospace;\n",
       "  background-color: var(--sklearn-color-background);\n",
       "  border-radius: 1rem;\n",
       "  height: 1rem;\n",
       "  width: 1rem;\n",
       "  text-decoration: none;\n",
       "  /* unfitted */\n",
       "  color: var(--sklearn-color-unfitted-level-1);\n",
       "  border: var(--sklearn-color-unfitted-level-1) 1pt solid;\n",
       "}\n",
       "\n",
       "#sk-container-id-1 a.estimator_doc_link.fitted {\n",
       "  /* fitted */\n",
       "  border: var(--sklearn-color-fitted-level-1) 1pt solid;\n",
       "  color: var(--sklearn-color-fitted-level-1);\n",
       "}\n",
       "\n",
       "/* On hover */\n",
       "#sk-container-id-1 a.estimator_doc_link:hover {\n",
       "  /* unfitted */\n",
       "  background-color: var(--sklearn-color-unfitted-level-3);\n",
       "  color: var(--sklearn-color-background);\n",
       "  text-decoration: none;\n",
       "}\n",
       "\n",
       "#sk-container-id-1 a.estimator_doc_link.fitted:hover {\n",
       "  /* fitted */\n",
       "  background-color: var(--sklearn-color-fitted-level-3);\n",
       "}\n",
       "</style><div id=\"sk-container-id-1\" class=\"sk-top-container\"><div class=\"sk-text-repr-fallback\"><pre>RandomForestRegressor(max_depth=10, random_state=42)</pre><b>In a Jupyter environment, please rerun this cell to show the HTML representation or trust the notebook. <br />On GitHub, the HTML representation is unable to render, please try loading this page with nbviewer.org.</b></div><div class=\"sk-container\" hidden><div class=\"sk-item\"><div class=\"sk-estimator fitted sk-toggleable\"><input class=\"sk-toggleable__control sk-hidden--visually\" id=\"sk-estimator-id-1\" type=\"checkbox\" checked><label for=\"sk-estimator-id-1\" class=\"sk-toggleable__label fitted sk-toggleable__label-arrow fitted\">&nbsp;&nbsp;RandomForestRegressor<a class=\"sk-estimator-doc-link fitted\" rel=\"noreferrer\" target=\"_blank\" href=\"https://scikit-learn.org/1.5/modules/generated/sklearn.ensemble.RandomForestRegressor.html\">?<span>Documentation for RandomForestRegressor</span></a><span class=\"sk-estimator-doc-link fitted\">i<span>Fitted</span></span></label><div class=\"sk-toggleable__content fitted\"><pre>RandomForestRegressor(max_depth=10, random_state=42)</pre></div> </div></div></div></div>"
      ],
      "text/plain": [
       "RandomForestRegressor(max_depth=10, random_state=42)"
      ]
     },
     "execution_count": 47,
     "metadata": {},
     "output_type": "execute_result"
    }
   ],
   "source": [
    "rf_model.fit(X_train, y_train)"
   ]
  },
  {
   "cell_type": "code",
   "execution_count": 48,
   "id": "e33fc6ea",
   "metadata": {},
   "outputs": [],
   "source": [
    "y_pred = rf_model.predict(X_test)"
   ]
  },
  {
   "cell_type": "code",
   "execution_count": 49,
   "id": "95a544b7",
   "metadata": {},
   "outputs": [],
   "source": [
    "from sklearn.metrics import mean_squared_error, r2_score"
   ]
  },
  {
   "cell_type": "code",
   "execution_count": 50,
   "id": "3856054d",
   "metadata": {},
   "outputs": [],
   "source": [
    "rmse = np.sqrt(mean_squared_error(y_test, y_pred))\n",
    "r2 = r2_score(y_test, y_pred)"
   ]
  },
  {
   "cell_type": "code",
   "execution_count": 51,
   "id": "08e55234",
   "metadata": {},
   "outputs": [
    {
     "name": "stdout",
     "output_type": "stream",
     "text": [
      "Random Forest Model Performance:\n",
      "RMSE: 23.59653152923552\n",
      "R² Score: 0.6162065413719979\n"
     ]
    }
   ],
   "source": [
    "print(f\"Random Forest Model Performance:\")\n",
    "print(f\"RMSE: {rmse}\")\n",
    "print(f\"R² Score: {r2}\")"
   ]
  },
  {
   "cell_type": "code",
   "execution_count": 52,
   "id": "483f01b5",
   "metadata": {},
   "outputs": [
    {
     "name": "stdout",
     "output_type": "stream",
     "text": [
      "XGBoost R² Score: 0.8889162540435791\n"
     ]
    }
   ],
   "source": [
    "from xgboost import XGBRegressor\n",
    "xgb_model = XGBRegressor(n_estimators=200, learning_rate=0.05, max_depth=10, random_state=42)\n",
    "xgb_model.fit(X_train, y_train)\n",
    "y_pred_xgb = xgb_model.predict(X_test)\n",
    "print(f\"XGBoost R² Score: {r2_score(y_test, y_pred_xgb)}\")\n"
   ]
  },
  {
   "cell_type": "code",
   "execution_count": 53,
   "id": "d71874df",
   "metadata": {},
   "outputs": [
    {
     "name": "stdout",
     "output_type": "stream",
     "text": [
      "Cross-validated R2 Score: 0.8876031637191772\n"
     ]
    }
   ],
   "source": [
    "from sklearn.model_selection import cross_val_score\n",
    "scores = cross_val_score(xgb_model, X_train, y_train, cv=5, scoring='r2')\n",
    "print(\"Cross-validated R2 Score:\", scores.mean())"
   ]
  },
  {
   "cell_type": "code",
   "execution_count": 54,
   "id": "7876ed37",
   "metadata": {},
   "outputs": [
    {
     "data": {
      "image/png": "[encoded data removed]",
      "text/plain": [
       "<Figure size 640x480 with 1 Axes>"
      ]
     },
     "metadata": {},
     "output_type": "display_data"
    }
   ],
   "source": [
    "import matplotlib.pyplot as plt\n",
    "import seaborn as sns\n",
    "\n",
    "residuals = y_test - y_pred_xgb\n",
    "sns.histplot(residuals, kde=True)\n",
    "plt.xlabel(\"Residuals\")\n",
    "plt.ylabel(\"Frequency\")\n",
    "plt.title(\"Distribution of Residuals\")\n",
    "plt.show()"
   ]
  },
  {
   "cell_type": "code",
   "execution_count": 55,
   "id": "8193662d",
   "metadata": {},
   "outputs": [
    {
     "data": {
      "text/html": [
       "<div>\n",
       "<style scoped>\n",
       "    .dataframe tbody tr th:only-of-type {\n",
       "        vertical-align: middle;\n",
       "    }\n",
       "\n",
       "    .dataframe tbody tr th {\n",
       "        vertical-align: top;\n",
       "    }\n",
       "\n",
       "    .dataframe thead th {\n",
       "        text-align: right;\n",
       "    }\n",
       "</style>\n",
       "<table border=\"1\" class=\"dataframe\">\n",
       "  <thead>\n",
       "    <tr style=\"text-align: right;\">\n",
       "      <th></th>\n",
       "      <th>month</th>\n",
       "      <th>weekday</th>\n",
       "      <th>weekend</th>\n",
       "      <th>restaurant_encoded</th>\n",
       "      <th>food_encoded</th>\n",
       "      <th>price</th>\n",
       "      <th>rating</th>\n",
       "      <th>city_encoded</th>\n",
       "    </tr>\n",
       "  </thead>\n",
       "  <tbody>\n",
       "    <tr>\n",
       "      <th>145273</th>\n",
       "      <td>7</td>\n",
       "      <td>1</td>\n",
       "      <td>0</td>\n",
       "      <td>6126</td>\n",
       "      <td>2288</td>\n",
       "      <td>110.0</td>\n",
       "      <td>2.0</td>\n",
       "      <td>21</td>\n",
       "    </tr>\n",
       "    <tr>\n",
       "      <th>183360</th>\n",
       "      <td>5</td>\n",
       "      <td>1</td>\n",
       "      <td>0</td>\n",
       "      <td>2886</td>\n",
       "      <td>2866</td>\n",
       "      <td>135.0</td>\n",
       "      <td>2.0</td>\n",
       "      <td>40</td>\n",
       "    </tr>\n",
       "    <tr>\n",
       "      <th>71906</th>\n",
       "      <td>6</td>\n",
       "      <td>2</td>\n",
       "      <td>0</td>\n",
       "      <td>172</td>\n",
       "      <td>3584</td>\n",
       "      <td>72.0</td>\n",
       "      <td>3.5</td>\n",
       "      <td>43</td>\n",
       "    </tr>\n",
       "    <tr>\n",
       "      <th>211472</th>\n",
       "      <td>6</td>\n",
       "      <td>1</td>\n",
       "      <td>0</td>\n",
       "      <td>7098</td>\n",
       "      <td>2904</td>\n",
       "      <td>149.0</td>\n",
       "      <td>3.8</td>\n",
       "      <td>42</td>\n",
       "    </tr>\n",
       "    <tr>\n",
       "      <th>248670</th>\n",
       "      <td>10</td>\n",
       "      <td>4</td>\n",
       "      <td>0</td>\n",
       "      <td>5147</td>\n",
       "      <td>1965</td>\n",
       "      <td>190.0</td>\n",
       "      <td>3.2</td>\n",
       "      <td>4</td>\n",
       "    </tr>\n",
       "    <tr>\n",
       "      <th>...</th>\n",
       "      <td>...</td>\n",
       "      <td>...</td>\n",
       "      <td>...</td>\n",
       "      <td>...</td>\n",
       "      <td>...</td>\n",
       "      <td>...</td>\n",
       "      <td>...</td>\n",
       "      <td>...</td>\n",
       "    </tr>\n",
       "    <tr>\n",
       "      <th>157302</th>\n",
       "      <td>7</td>\n",
       "      <td>4</td>\n",
       "      <td>0</td>\n",
       "      <td>17</td>\n",
       "      <td>2266</td>\n",
       "      <td>115.0</td>\n",
       "      <td>4.1</td>\n",
       "      <td>21</td>\n",
       "    </tr>\n",
       "    <tr>\n",
       "      <th>135898</th>\n",
       "      <td>12</td>\n",
       "      <td>1</td>\n",
       "      <td>0</td>\n",
       "      <td>7576</td>\n",
       "      <td>1936</td>\n",
       "      <td>140.0</td>\n",
       "      <td>4.2</td>\n",
       "      <td>14</td>\n",
       "    </tr>\n",
       "    <tr>\n",
       "      <th>174288</th>\n",
       "      <td>9</td>\n",
       "      <td>2</td>\n",
       "      <td>0</td>\n",
       "      <td>1875</td>\n",
       "      <td>1722</td>\n",
       "      <td>40.0</td>\n",
       "      <td>4.1</td>\n",
       "      <td>47</td>\n",
       "    </tr>\n",
       "    <tr>\n",
       "      <th>193927</th>\n",
       "      <td>7</td>\n",
       "      <td>1</td>\n",
       "      <td>0</td>\n",
       "      <td>1319</td>\n",
       "      <td>3004</td>\n",
       "      <td>70.0</td>\n",
       "      <td>2.0</td>\n",
       "      <td>60</td>\n",
       "    </tr>\n",
       "    <tr>\n",
       "      <th>159903</th>\n",
       "      <td>2</td>\n",
       "      <td>1</td>\n",
       "      <td>0</td>\n",
       "      <td>5356</td>\n",
       "      <td>3371</td>\n",
       "      <td>199.0</td>\n",
       "      <td>3.6</td>\n",
       "      <td>18</td>\n",
       "    </tr>\n",
       "  </tbody>\n",
       "</table>\n",
       "<p>159017 rows × 8 columns</p>\n",
       "</div>"
      ],
      "text/plain": [
       "        month  weekday  weekend  restaurant_encoded  food_encoded  price  \\\n",
       "145273      7        1        0                6126          2288  110.0   \n",
       "183360      5        1        0                2886          2866  135.0   \n",
       "71906       6        2        0                 172          3584   72.0   \n",
       "211472      6        1        0                7098          2904  149.0   \n",
       "248670     10        4        0                5147          1965  190.0   \n",
       "...       ...      ...      ...                 ...           ...    ...   \n",
       "157302      7        4        0                  17          2266  115.0   \n",
       "135898     12        1        0                7576          1936  140.0   \n",
       "174288      9        2        0                1875          1722   40.0   \n",
       "193927      7        1        0                1319          3004   70.0   \n",
       "159903      2        1        0                5356          3371  199.0   \n",
       "\n",
       "        rating  city_encoded  \n",
       "145273     2.0            21  \n",
       "183360     2.0            40  \n",
       "71906      3.5            43  \n",
       "211472     3.8            42  \n",
       "248670     3.2             4  \n",
       "...        ...           ...  \n",
       "157302     4.1            21  \n",
       "135898     4.2            14  \n",
       "174288     4.1            47  \n",
       "193927     2.0            60  \n",
       "159903     3.6            18  \n",
       "\n",
       "[159017 rows x 8 columns]"
      ]
     },
     "execution_count": 55,
     "metadata": {},
     "output_type": "execute_result"
    }
   ],
   "source": [
    "X_train"
   ]
  },
  {
   "cell_type": "code",
   "execution_count": 56,
   "id": "eee36e11",
   "metadata": {},
   "outputs": [
    {
     "name": "stdout",
     "output_type": "stream",
     "text": [
      "<class 'pandas.core.frame.DataFrame'>\n",
      "Index: 198772 entries, 1 to 261358\n",
      "Data columns (total 24 columns):\n",
      " #   Column              Non-Null Count   Dtype         \n",
      "---  ------              --------------   -----         \n",
      " 0   Age                 198772 non-null  int64         \n",
      " 1   Gender              198772 non-null  object        \n",
      " 2   Marital Status      198772 non-null  object        \n",
      " 3   Family size         198772 non-null  int64         \n",
      " 4   order_date          198772 non-null  datetime64[ns]\n",
      " 5   sales_qty           198772 non-null  int64         \n",
      " 6   restaurant_name     198772 non-null  object        \n",
      " 7   city                198772 non-null  object        \n",
      " 8   rating              198772 non-null  float64       \n",
      " 9   rating_count        198772 non-null  object        \n",
      " 10  price               198772 non-null  float64       \n",
      " 11  food_item           198772 non-null  object        \n",
      " 12  veg_or_non_veg      198772 non-null  object        \n",
      " 13  Total_price         198772 non-null  float64       \n",
      " 14  total_spent         198772 non-null  float64       \n",
      " 15  month               198772 non-null  int32         \n",
      " 16  year                198772 non-null  int32         \n",
      " 17  day                 198772 non-null  int32         \n",
      " 18  weekday             198772 non-null  object        \n",
      " 19  weekend             198772 non-null  bool          \n",
      " 20  daily_demand        198772 non-null  int64         \n",
      " 21  city_encoded        198772 non-null  int8          \n",
      " 22  restaurant_encoded  198772 non-null  int16         \n",
      " 23  food_encoded        198772 non-null  int16         \n",
      "dtypes: bool(1), datetime64[ns](1), float64(4), int16(2), int32(3), int64(4), int8(1), object(8)\n",
      "memory usage: 30.7+ MB\n"
     ]
    }
   ],
   "source": [
    "df.info()"
   ]
  },
  {
   "cell_type": "code",
   "execution_count": 57,
   "id": "6fe20155",
   "metadata": {},
   "outputs": [
    {
     "name": "stdout",
     "output_type": "stream",
     "text": [
      "Best Parameters: {'learning_rate': 0.1, 'max_depth': 10, 'n_estimators': 500}\n"
     ]
    }
   ],
   "source": [
    "from xgboost import XGBRegressor\n",
    "from sklearn.model_selection import train_test_split, GridSearchCV\n",
    "\n",
    "X =  df[['month', 'weekday', 'weekend',  'restaurant_encoded', 'food_encoded', 'price', 'rating', 'city_encoded']]\n",
    "y = df['daily_demand']  # Target\n",
    "\n",
    "weekday_mapping = {\n",
    "    \"Monday\": 0, \"Tuesday\": 1, \"Wednesday\": 2, \n",
    "    \"Thursday\": 3, \"Friday\": 4, \"Saturday\": 5, \"Sunday\": 6\n",
    "}\n",
    "\n",
    "# Apply the mapping to both X_train and X_test\n",
    "X['weekday'] = X['weekday'].map(weekday_mapping)\n",
    "\n",
    "X['weekend'] = X['weekend'].astype(int)\n",
    "X['weekend'] = X['weekend'].astype(int)\n",
    "\n",
    "X_train, X_test, y_train, y_test = train_test_split(X, y, test_size=0.2, random_state=42)\n",
    "\n",
    "params = {\n",
    "    'n_estimators': [100, 300, 500],\n",
    "    'max_depth': [6, 8, 10],\n",
    "    'learning_rate': [0.01, 0.05, 0.1]\n",
    "}\n",
    "\n",
    "model = GridSearchCV(XGBRegressor(random_state=42), params, cv=3, scoring='neg_root_mean_squared_error', n_jobs=-1)\n",
    "model.fit(X_train, y_train)\n",
    "\n",
    "print(\"Best Parameters:\", model.best_params_)"
   ]
  },
  {
   "cell_type": "code",
   "execution_count": 58,
   "id": "7a9de5e8",
   "metadata": {},
   "outputs": [
    {
     "data": {
      "text/html": [
       "<div>\n",
       "<style scoped>\n",
       "    .dataframe tbody tr th:only-of-type {\n",
       "        vertical-align: middle;\n",
       "    }\n",
       "\n",
       "    .dataframe tbody tr th {\n",
       "        vertical-align: top;\n",
       "    }\n",
       "\n",
       "    .dataframe thead th {\n",
       "        text-align: right;\n",
       "    }\n",
       "</style>\n",
       "<table border=\"1\" class=\"dataframe\">\n",
       "  <thead>\n",
       "    <tr style=\"text-align: right;\">\n",
       "      <th></th>\n",
       "      <th>month</th>\n",
       "      <th>weekday</th>\n",
       "      <th>weekend</th>\n",
       "      <th>restaurant_encoded</th>\n",
       "      <th>food_encoded</th>\n",
       "      <th>price</th>\n",
       "      <th>rating</th>\n",
       "      <th>city_encoded</th>\n",
       "    </tr>\n",
       "  </thead>\n",
       "  <tbody>\n",
       "    <tr>\n",
       "      <th>145273</th>\n",
       "      <td>7</td>\n",
       "      <td>1</td>\n",
       "      <td>0</td>\n",
       "      <td>6126</td>\n",
       "      <td>2288</td>\n",
       "      <td>110.0</td>\n",
       "      <td>2.0</td>\n",
       "      <td>21</td>\n",
       "    </tr>\n",
       "    <tr>\n",
       "      <th>183360</th>\n",
       "      <td>5</td>\n",
       "      <td>1</td>\n",
       "      <td>0</td>\n",
       "      <td>2886</td>\n",
       "      <td>2866</td>\n",
       "      <td>135.0</td>\n",
       "      <td>2.0</td>\n",
       "      <td>40</td>\n",
       "    </tr>\n",
       "  </tbody>\n",
       "</table>\n",
       "</div>"
      ],
      "text/plain": [
       "        month  weekday  weekend  restaurant_encoded  food_encoded  price  \\\n",
       "145273      7        1        0                6126          2288  110.0   \n",
       "183360      5        1        0                2886          2866  135.0   \n",
       "\n",
       "        rating  city_encoded  \n",
       "145273     2.0            21  \n",
       "183360     2.0            40  "
      ]
     },
     "execution_count": 58,
     "metadata": {},
     "output_type": "execute_result"
    }
   ],
   "source": [
    "X_train.head(2)"
   ]
  },
  {
   "cell_type": "code",
   "execution_count": 59,
   "id": "58c465bc",
   "metadata": {},
   "outputs": [
    {
     "name": "stdout",
     "output_type": "stream",
     "text": [
      "XGBoost R² Score: 0.9723055362701416\n",
      "RMSE: 6.338634034773372\n"
     ]
    }
   ],
   "source": [
    "from xgboost import XGBRegressor\n",
    "xgb_model = XGBRegressor(n_estimators=500, max_depth=10, learning_rate=0.1, reg_alpha=0.1, reg_lambda=0.1, random_state=42)\n",
    "xgb_model.fit(X_train, y_train)\n",
    "y_pred_xgb = xgb_model.predict(X_test)\n",
    "print(f\"XGBoost R² Score: {r2_score(y_test, y_pred_xgb)}\")\n",
    "rmse = np.sqrt(mean_squ ared_error(y_test, y_pred_xgb))\n",
    "print(f\"RMSE: {rmse}\")"
   ]
  },
  {
   "cell_type": "code",
   "execution_count": 60,
   "id": "0456f6e9",
   "metadata": {},
   "outputs": [
    {
     "name": "stdout",
     "output_type": "stream",
     "text": [
      "Train R² Score: 0.9904966950416565\n",
      "Test R² Score: 0.9723055362701416\n"
     ]
    }
   ],
   "source": [
    "from sklearn.metrics import r2_score\n",
    "\n",
    "train_pred = xgb_model.predict(X_train)\n",
    "test_pred = xgb_model.predict(X_test)\n",
    "\n",
    "train_r2 = r2_score(y_train, train_pred)\n",
    "test_r2 = r2_score(y_test, test_pred)\n",
    "\n",
    "print(f\"Train R² Score: {train_r2}\")\n",
    "print(f\"Test R² Score: {test_r2}\")\n"
   ]
  },
  {
   "cell_type": "code",
   "execution_count": 61,
   "id": "d3ed6547",
   "metadata": {},
   "outputs": [
    {
     "name": "stdout",
     "output_type": "stream",
     "text": [
      "CV Mean R²: 0.9690392851829529 CV Std: 0.0008458426971844983\n"
     ]
    }
   ],
   "source": [
    "from sklearn.model_selection import cross_val_score\n",
    "scores = cross_val_score(xgb_model, X_train, y_train, cv=5, scoring='r2')\n",
    "print(\"CV Mean R²:\", scores.mean(), \"CV Std:\", scores.std())"
   ]
  },
  {
   "cell_type": "code",
   "execution_count": 62,
   "id": "e4bb521b",
   "metadata": {},
   "outputs": [
    {
     "name": "stdout",
     "output_type": "stream",
     "text": [
      "daily_demand          1.000000\n",
      "rating                0.196220\n",
      "price                 0.173326\n",
      "restaurant_encoded    0.030167\n",
      "food_encoded          0.013886\n",
      "weekday               0.003561\n",
      "weekend              -0.007695\n",
      "month                -0.085382\n",
      "city_encoded         -0.251810\n",
      "Name: daily_demand, dtype: float64\n"
     ]
    }
   ],
   "source": [
    "import pandas as pd\n",
    "correlation_matrix = pd.concat([X_train, y_train], axis=1).corr()\n",
    "print(correlation_matrix[\"daily_demand\"].squeeze().sort_values(ascending=False))"
   ]
  },
  {
   "cell_type": "code",
   "execution_count": 63,
   "id": "7b04a7fb",
   "metadata": {},
   "outputs": [
    {
     "name": "stdout",
     "output_type": "stream",
     "text": [
      "<class 'pandas.core.frame.DataFrame'>\n",
      "Index: 198772 entries, 1 to 261358\n",
      "Data columns (total 24 columns):\n",
      " #   Column              Non-Null Count   Dtype         \n",
      "---  ------              --------------   -----         \n",
      " 0   Age                 198772 non-null  int64         \n",
      " 1   Gender              198772 non-null  object        \n",
      " 2   Marital Status      198772 non-null  object        \n",
      " 3   Family size         198772 non-null  int64         \n",
      " 4   order_date          198772 non-null  datetime64[ns]\n",
      " 5   sales_qty           198772 non-null  int64         \n",
      " 6   restaurant_name     198772 non-null  object        \n",
      " 7   city                198772 non-null  object        \n",
      " 8   rating              198772 non-null  float64       \n",
      " 9   rating_count        198772 non-null  object        \n",
      " 10  price               198772 non-null  float64       \n",
      " 11  food_item           198772 non-null  object        \n",
      " 12  veg_or_non_veg      198772 non-null  object        \n",
      " 13  Total_price         198772 non-null  float64       \n",
      " 14  total_spent         198772 non-null  float64       \n",
      " 15  month               198772 non-null  int32         \n",
      " 16  year                198772 non-null  int32         \n",
      " 17  day                 198772 non-null  int32         \n",
      " 18  weekday             198772 non-null  object        \n",
      " 19  weekend             198772 non-null  bool          \n",
      " 20  daily_demand        198772 non-null  int64         \n",
      " 21  city_encoded        198772 non-null  int8          \n",
      " 22  restaurant_encoded  198772 non-null  int16         \n",
      " 23  food_encoded        198772 non-null  int16         \n",
      "dtypes: bool(1), datetime64[ns](1), float64(4), int16(2), int32(3), int64(4), int8(1), object(8)\n",
      "memory usage: 30.7+ MB\n"
     ]
    }
   ],
   "source": [
    "df.info()"
   ]
  },
  {
   "cell_type": "code",
   "execution_count": 64,
   "id": "118bf695",
   "metadata": {},
   "outputs": [],
   "source": [
    "weekday_mapping = {\n",
    "    'Monday': 0, 'Tuesday': 1, 'Wednesday': 2, 'Thursday': 3,\n",
    "    'Friday': 4, 'Saturday': 5, 'Sunday': 6\n",
    "}\n",
    "\n",
    "df['weekday_encoded'] = df['weekday'].map(weekday_mapping)\n"
   ]
  },
  {
   "cell_type": "code",
   "execution_count": 65,
   "id": "a611dd69",
   "metadata": {},
   "outputs": [],
   "source": [
    "# Save mappings\n",
    "city_mapping = dict(zip(df['city'], df['city_encoded']))\n",
    "restaurant_mapping = dict(zip(df['restaurant_name'], df['restaurant_encoded']))\n",
    "food_mapping = dict(zip(df['food_item'], df['food_encoded']))\n"
   ]
  },
  {
   "cell_type": "code",
   "execution_count": 68,
   "id": "fb18e5dc-5946-4875-93d4-ff291835fb85",
   "metadata": {},
   "outputs": [
    {
     "name": "stdin",
     "output_type": "stream",
     "text": [
      "Enter restaurant name:  zwarma(the shawarma makers)\n"
     ]
    },
    {
     "name": "stdout",
     "output_type": "stream",
     "text": [
      "Encoded value for 'zwarma(the shawarma makers)': 7732\n",
      "7732\n"
     ]
    }
   ],
   "source": [
    "# Create the mapping dictionary\n",
    "def get_restaurant_encoding():\n",
    "    while True:\n",
    "        restaurant_name = input(\"Enter restaurant name: \").strip().lower()\n",
    "        \n",
    "        # Create a lowercase version of the mapping for case-insensitive search\n",
    "        lower_mapping = {k.lower(): v for k, v in restaurant_mapping.items()}\n",
    "        \n",
    "        if restaurant_name in lower_mapping:\n",
    "            encoded_value = lower_mapping[restaurant_name]\n",
    "            actual_name = [k for k in restaurant_mapping if k.lower() == restaurant_name][0]\n",
    "            print(f\"Encoded value for '{actual_name}': {encoded_value}\")\n",
    "            return encoded_value\n",
    "        else:\n",
    "            print(f\"Restaurant '{restaurant_name}' not found. Available restaurants:\")\n",
    "            print(\"\\n\".join(sorted(restaurant_mapping.keys())))\n",
    "            print(\"\\nPlease try again.\")\n",
    "\n",
    "# Example usage:\n",
    "\n",
    "restaurant_encoded = get_restaurant_encoding()\n",
    "\n",
    "print(restaurant_encoded)\n"
   ]
  },
  {
   "cell_type": "code",
   "execution_count": 70,
   "id": "31888359-5485-4612-8f3a-af83943e9493",
   "metadata": {},
   "outputs": [
    {
     "name": "stdin",
     "output_type": "stream",
     "text": [
      "Enter city name:  yeshwanthpur,bangalore\n"
     ]
    },
    {
     "name": "stdout",
     "output_type": "stream",
     "text": [
      "Encoded value for 'yeshwanthpur,bangalore': 61\n",
      "61\n"
     ]
    }
   ],
   "source": [
    "def get_city_encoding():\n",
    "    while True:\n",
    "        city_name = input(\"Enter city name: \").strip().lower()\n",
    "        \n",
    "        # Create a lowercase version of the mapping for case-insensitive search\n",
    "        lower_mapping = {k.lower(): v for k, v in city_mapping.items()}\n",
    "        \n",
    "        if city_name in lower_mapping:\n",
    "            encoded_value = lower_mapping[city_name]\n",
    "            actual_name = [k for k in city_mapping if k.lower() == city_name][0]\n",
    "            print(f\"Encoded value for '{actual_name}': {encoded_value}\")\n",
    "            return encoded_value\n",
    "        else:\n",
    "            print(f\"City '{city_name}' not found. Available cities:\")\n",
    "            print(\"\\n\".join(sorted(city_mapping.keys())))\n",
    "            print(\"\\nPlease try again.\")\n",
    "\n",
    "# Example usage:\n",
    "city_encoded = get_city_encoding()\n",
    "print(city_encoded)"
   ]
  },
  {
   "cell_type": "code",
   "execution_count": 72,
   "id": "cf883c10-39be-42dd-a46f-e4b367f31b22",
   "metadata": {},
   "outputs": [
    {
     "name": "stdin",
     "output_type": "stream",
     "text": [
      "Enter food item:  zeera rice\n"
     ]
    },
    {
     "name": "stdout",
     "output_type": "stream",
     "text": [
      "Encoded value for 'zeera rice': 4146\n",
      "4146\n"
     ]
    }
   ],
   "source": [
    "def get_food_encoding():\n",
    "    while True:\n",
    "        food_item = input(\"Enter food item: \").strip().lower()\n",
    "        \n",
    "        # Create a lowercase version of the mapping for case-insensitive search\n",
    "        lower_mapping = {k.lower(): v for k, v in food_mapping.items()}\n",
    "        \n",
    "        if food_item in lower_mapping:\n",
    "            encoded_value = lower_mapping[food_item]\n",
    "            actual_name = [k for k in food_mapping if k.lower() == food_item][0]\n",
    "            print(f\"Encoded value for '{actual_name}': {encoded_value}\")\n",
    "            return encoded_value\n",
    "        else:\n",
    "            print(f\"Food item '{food_item}' not found. Available items:\")\n",
    "            print(\"\\n\".join(sorted(food_mapping.keys())))\n",
    "            print(\"\\nPlease try again.\")\n",
    "\n",
    "# Example usage:\n",
    "food_encoded = get_food_encoding()\n",
    "print(food_encoded)"
   ]
  },
  {
   "cell_type": "code",
   "execution_count": 73,
   "id": "5b897c21-f99f-4abd-9b24-a526261a338b",
   "metadata": {},
   "outputs": [
    {
     "name": "stdin",
     "output_type": "stream",
     "text": [
      "Enter rating (e.g., 4.2):  4.4\n",
      "Enter price (e.g., 500):  200\n",
      "Enter restaurant encoded value:  7732\n",
      "Enter food encoded value:  4146\n",
      "Enter weekday (e.g., Monday, Tuesday, ... Sunday):  Monday\n",
      "Enter month (1-12):  5\n",
      "Enter city encoded value:  61\n"
     ]
    },
    {
     "name": "stdout",
     "output_type": "stream",
     "text": [
      "\n",
      "Predicted Daily Demand: 35.515403747558594\n"
     ]
    }
   ],
   "source": [
    "import pandas as pd\n",
    "\n",
    "# Ensure the correct column order based on X_train\n",
    "feature_order = ['month', 'weekday', 'weekend', 'restaurant_encoded', 'food_encoded', 'price', 'rating', 'city_encoded']\n",
    "\n",
    "# Dictionary to map weekday names to encoded values\n",
    "weekday_mapping = {\n",
    "    \"monday\": 0, \"tuesday\": 1, \"wednesday\": 2, \"thursday\": 3, \"friday\": 4,\n",
    "    \"saturday\": 5, \"sunday\": 6\n",
    "}\n",
    "\n",
    "def get_user_input():\n",
    "    rating = float(input(\"Enter rating (e.g., 4.2): \"))\n",
    "    price = float(input(\"Enter price (e.g., 500): \"))\n",
    "    restaurant_encoded = int(input(\"Enter restaurant encoded value: \"))\n",
    "    food_encoded = int(input(\"Enter food encoded value: \"))\n",
    "\n",
    "    # Convert weekday string to encoded value\n",
    "    while True:\n",
    "        weekday_str = input(\"Enter weekday (e.g., Monday, Tuesday, ... Sunday): \").strip().lower()\n",
    "        if weekday_str in weekday_mapping:\n",
    "            weekday = weekday_mapping[weekday_str]\n",
    "            break\n",
    "        else:\n",
    "            print(\"Invalid weekday! Please enter a valid day (e.g., Monday, Tuesday, etc.).\")\n",
    "    \n",
    "    # Automatically determine weekend (0 for Monday-Friday, 1 for Saturday-Sunday)\n",
    "    weekend = 1 if weekday in [5, 6] else 0  \n",
    "\n",
    "    month = int(input(\"Enter month (1-12): \"))\n",
    "    city_encoded = int(input(\"Enter city encoded value: \"))\n",
    "\n",
    "    # Create DataFrame with correct column order\n",
    "    input_data = pd.DataFrame([[month, weekday, weekend, restaurant_encoded, food_encoded, price, rating, city_encoded]],\n",
    "                              columns=feature_order)\n",
    "    \n",
    "    return input_data\n",
    "\n",
    "# Get user input\n",
    "user_df = get_user_input()\n",
    "\n",
    "# Predict daily demand using trained model\n",
    "predicted_demand = xgb_model.predict(user_df)\n",
    "\n",
    "# Display result\n",
    "print(f\"\\nPredicted Daily Demand: {predicted_demand[0]}\")\n"
   ]
  }
 ],
 "metadata": {
  "kernelspec": {
   "display_name": "Python 3 (ipykernel)",
   "language": "python",
   "name": "python3"
  },
  "language_info": {
   "codemirror_mode": {
    "name": "ipython",
    "version": 3
   },
   "file_extension": ".py",
   "mimetype": "text/x-python",
   "name": "python",
   "nbconvert_exporter": "python",
   "pygments_lexer": "ipython3",
   "version": "3.12.7"
  }
 },
 "nbformat": 4,
 "nbformat_minor": 5
}
